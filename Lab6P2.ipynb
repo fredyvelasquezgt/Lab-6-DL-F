{
 "cells": [
  {
   "cell_type": "markdown",
   "source": [
    "# Laboratorio 6 Parte 2\n",
    "\n",
    "En este laboratorio, estaremos repasando los conceptos de Generative Adversarial Networks En la segunda parte nos acercaremos a esta arquitectura a través de buscar generar numeros que parecieran ser generados a mano. Esta vez ya no usaremos versiones deprecadas de la librería de PyTorch, por ende, creen un nuevo virtual env con las librerías más recientes que puedan por favor.\n",
    "\n",
    "Al igual que en laboratorios anteriores, para este laboratorio estaremos usando una herramienta para Jupyter Notebooks que facilitará la calificación, no solo asegurándo que ustedes tengan una nota pronto sino también mostrandoles su nota final al terminar el laboratorio.\n",
    "\n",
    "De nuevo me discupo si algo no sale bien, seguiremos mejorando conforme vayamos iterando. Siempre pido su comprensión y colaboración si algo no funciona como debería. \n",
    "\n",
    "Al igual que en el laboratorio pasado, estaremos usando la librería de Dr John Williamson et al de la University of Glasgow, además de ciertas piezas de código de Dr Bjorn Jensen de su curso de Introduction to Data Science and System de la University of Glasgow para la visualización de sus calificaciones. \n",
    "\n",
    "**NOTA:** Ahora tambien hay una tercera dependecia que se necesita instalar. Ver la celda de abajo por favor\n",
    "\n",
    "<script type=\"text/javascript\" src=\"https://cdn.mathjax.org/mathjax/latest/MathJax.js?config=TeX-AMS-MML_HTMLorMML\">\n",
    "</script>"
   ],
   "metadata": {
    "deletable": false,
    "editable": false,
    "nbgrader": {
     "cell_type": "markdown",
     "checksum": "396cf7fd19ea372a105699f6b8ad1ced",
     "grade": false,
     "grade_id": "cell-960e57285ca11555",
     "locked": true,
     "schema_version": 3,
     "solution": false,
     "task": false
    }
   }
  },
  {
   "cell_type": "code",
   "execution_count": 1,
   "source": [
    "# Una vez instalada la librería por favor, recuerden volverla a comentar.\n",
    "!pip install -U --force-reinstall --no-cache https://github.com/johnhw/jhwutils/zipball/master\n",
    "!pip install scikit-image\n",
    "!pip install -U --force-reinstall --no-cache https://github.com/AlbertS789/lautils/zipball/master"
   ],
   "outputs": [
    {
     "output_type": "stream",
     "name": "stdout",
     "text": [
      "Collecting https://github.com/johnhw/jhwutils/zipball/master\n",
      "  Downloading https://github.com/johnhw/jhwutils/zipball/master\n",
      "\u001b[2K     \u001b[32m-\u001b[0m \u001b[32m38.1 kB\u001b[0m \u001b[31m525.4 kB/s\u001b[0m \u001b[33m0:00:00\u001b[0m\n",
      "\u001b[?25h  Preparing metadata (setup.py) ... \u001b[?25ldone\n",
      "\u001b[?25hBuilding wheels for collected packages: jhwutils\n",
      "  Building wheel for jhwutils (setup.py) ... \u001b[?25ldone\n",
      "\u001b[?25h  Created wheel for jhwutils: filename=jhwutils-1.0-py3-none-any.whl size=33801 sha256=95da95c2e25a0a57ef01ddae5509e04a39aa301ded7dc521c1301802a791371c\n",
      "  Stored in directory: /private/var/folders/h4/rlgjjv6s50z2sflx2_9bt49h0000gn/T/pip-ephem-wheel-cache-qrtmdzj_/wheels/27/3c/cb/eb7b3c6ea36b5b54e5746751443be9bb0d73352919033558a2\n",
      "Successfully built jhwutils\n",
      "Installing collected packages: jhwutils\n",
      "  Attempting uninstall: jhwutils\n",
      "    Found existing installation: jhwutils 1.0\n",
      "    Uninstalling jhwutils-1.0:\n",
      "      Successfully uninstalled jhwutils-1.0\n",
      "Successfully installed jhwutils-1.0\n",
      "Requirement already satisfied: scikit-image in /Users/fredyvelasquez/anaconda3/lib/python3.10/site-packages (0.19.3)\n",
      "Requirement already satisfied: tifffile>=2019.7.26 in /Users/fredyvelasquez/anaconda3/lib/python3.10/site-packages (from scikit-image) (2021.7.2)\n",
      "Requirement already satisfied: numpy>=1.17.0 in /Users/fredyvelasquez/anaconda3/lib/python3.10/site-packages (from scikit-image) (1.23.5)\n",
      "Requirement already satisfied: pillow!=7.1.0,!=7.1.1,!=8.3.0,>=6.1.0 in /Users/fredyvelasquez/anaconda3/lib/python3.10/site-packages (from scikit-image) (9.4.0)\n",
      "Requirement already satisfied: imageio>=2.4.1 in /Users/fredyvelasquez/anaconda3/lib/python3.10/site-packages (from scikit-image) (2.26.0)\n",
      "Requirement already satisfied: PyWavelets>=1.1.1 in /Users/fredyvelasquez/anaconda3/lib/python3.10/site-packages (from scikit-image) (1.4.1)\n",
      "Requirement already satisfied: scipy>=1.4.1 in /Users/fredyvelasquez/anaconda3/lib/python3.10/site-packages (from scikit-image) (1.10.0)\n",
      "Requirement already satisfied: packaging>=20.0 in /Users/fredyvelasquez/anaconda3/lib/python3.10/site-packages (from scikit-image) (22.0)\n",
      "Requirement already satisfied: networkx>=2.2 in /Users/fredyvelasquez/anaconda3/lib/python3.10/site-packages (from scikit-image) (2.8.4)\n",
      "Collecting https://github.com/AlbertS789/lautils/zipball/master\n",
      "  Downloading https://github.com/AlbertS789/lautils/zipball/master\n",
      "\u001b[2K     \u001b[32m-\u001b[0m \u001b[32m4.2 kB\u001b[0m \u001b[31m2.6 MB/s\u001b[0m \u001b[33m0:00:00\u001b[0m\n",
      "\u001b[?25h  Preparing metadata (setup.py) ... \u001b[?25ldone\n",
      "\u001b[?25hBuilding wheels for collected packages: lautils\n",
      "  Building wheel for lautils (setup.py) ... \u001b[?25ldone\n",
      "\u001b[?25h  Created wheel for lautils: filename=lautils-1.0-py3-none-any.whl size=2825 sha256=0cc7ba2c97c86902cc10fe7e68023d654a9ac434b10e452254d7b8fa3e74ae4f\n",
      "  Stored in directory: /private/var/folders/h4/rlgjjv6s50z2sflx2_9bt49h0000gn/T/pip-ephem-wheel-cache-pro0gizq/wheels/16/3a/a0/5fbae86e17ef6bb8ed057aa04b591584005d1212c72d69fc70\n",
      "Successfully built lautils\n",
      "Installing collected packages: lautils\n",
      "  Attempting uninstall: lautils\n",
      "    Found existing installation: lautils 1.0\n",
      "    Uninstalling lautils-1.0:\n",
      "      Successfully uninstalled lautils-1.0\n",
      "Successfully installed lautils-1.0\n"
     ]
    }
   ],
   "metadata": {
    "ExecuteTime": {
     "end_time": "2023-08-22T02:32:15.882007Z",
     "start_time": "2023-08-22T02:32:15.869542Z"
    },
    "deletable": false,
    "editable": false,
    "nbgrader": {
     "cell_type": "code",
     "checksum": "e8953431cdcb9173be3b8f52fc881188",
     "grade": false,
     "grade_id": "cell-2b0bb1b15da7bb83",
     "locked": true,
     "schema_version": 3,
     "solution": false,
     "task": false
    }
   }
  },
  {
   "cell_type": "code",
   "execution_count": 2,
   "source": [
    "import numpy as np\n",
    "import copy\n",
    "import matplotlib.pyplot as plt\n",
    "import scipy\n",
    "from PIL import Image\n",
    "import os\n",
    "from collections import defaultdict\n",
    "\n",
    "#from IPython import display\n",
    "#from base64 import b64decode\n",
    "\n",
    "\n",
    "# Other imports\n",
    "from unittest.mock import patch\n",
    "from uuid import getnode as get_mac\n",
    "\n",
    "from jhwutils.checkarr import array_hash, check_hash, check_scalar, check_string, array_hash, _check_scalar\n",
    "import jhwutils.image_audio as ia\n",
    "import jhwutils.tick as tick\n",
    "from lautils.gradeutils import new_representation, hex_to_float, compare_numbers, compare_lists_by_percentage, calculate_coincidences_percentage\n",
    "\n",
    "###\n",
    "tick.reset_marks()\n",
    "\n",
    "%matplotlib inline"
   ],
   "outputs": [],
   "metadata": {
    "ExecuteTime": {
     "end_time": "2023-08-22T02:32:16.971429Z",
     "start_time": "2023-08-22T02:32:15.885010Z"
    },
    "deletable": false,
    "editable": false,
    "nbgrader": {
     "cell_type": "code",
     "checksum": "dd4f6222b9c1610179b2afe7b7b1e565",
     "grade": false,
     "grade_id": "cell-0a68c3e59d11e57e",
     "locked": true,
     "schema_version": 3,
     "solution": false,
     "task": false
    }
   }
  },
  {
   "cell_type": "code",
   "execution_count": 3,
   "source": [
    "# Celda escondida para utlidades necesarias, por favor NO edite esta celda\n"
   ],
   "outputs": [],
   "metadata": {
    "ExecuteTime": {
     "end_time": "2023-08-22T02:32:16.986829Z",
     "start_time": "2023-08-22T02:32:16.975426Z"
    },
    "deletable": false,
    "editable": false,
    "nbgrader": {
     "cell_type": "code",
     "checksum": "bf55c1d62fe07a3c141e2866a2e5e629",
     "grade": true,
     "grade_id": "cell-d562e375cf573f90",
     "locked": true,
     "points": 0,
     "schema_version": 3,
     "solution": false,
     "task": false
    }
   }
  },
  {
   "cell_type": "markdown",
   "source": [
    "###### Información del estudiante en dos variables\n",
    "\n",
    "* carne_1 : un string con su carne (e.g. \"12281\"), debe ser de al menos 5 caracteres.\n",
    "* firma_mecanografiada_1: un string con su nombre (e.g. \"Albero Suriano\") que se usará para la declaracion que este trabajo es propio (es decir, no hay plagio)\n",
    "* carne_2 : un string con su carne (e.g. \"12281\"), debe ser de al menos 5 caracteres.\n",
    "* firma_mecanografiada_2: un string con su nombre (e.g. \"Albero Suriano\") que se usará para la declaracion que este trabajo es propio (es decir, no hay plagio)"
   ],
   "metadata": {
    "deletable": false,
    "editable": false,
    "nbgrader": {
     "cell_type": "markdown",
     "checksum": "cc4559445bb9a374de897603f06e4f98",
     "grade": false,
     "grade_id": "cell-ba908918810d2476",
     "locked": true,
     "schema_version": 3,
     "solution": false,
     "task": false
    }
   }
  },
  {
   "cell_type": "code",
   "execution_count": 3,
   "source": [
    "carne_1 = \"201011\"\n",
    "firma_mecanografiada_1 = \"Fredy Velasquez\"\n",
    "carne_2 =  \"20460\"\n",
    "firma_mecanografiada_2 = \"Angel Higueros\"\n",
    "# YOUR CODE HERE\n",
    "# raise NotImplementedError()"
   ],
   "outputs": [],
   "metadata": {
    "ExecuteTime": {
     "end_time": "2023-08-22T02:32:17.001841Z",
     "start_time": "2023-08-22T02:32:16.991849Z"
    },
    "deletable": false,
    "nbgrader": {
     "cell_type": "code",
     "checksum": "9f28f6bfc67c1fff50b64e1999a9228e",
     "grade": false,
     "grade_id": "cell-33843192727a72f7",
     "locked": false,
     "schema_version": 3,
     "solution": true,
     "task": false
    }
   }
  },
  {
   "cell_type": "code",
   "execution_count": 5,
   "source": [
    "# Deberia poder ver dos checkmarks verdes [0 marks], que indican que su información básica está OK \n",
    "\n",
    "with tick.marks(0): \n",
    "    assert(len(carne_1)>=5 and len(carne_2)>=5)\n",
    "\n",
    "with tick.marks(0):  \n",
    "    assert(len(firma_mecanografiada_1)>0 and len(firma_mecanografiada_2)>0)"
   ],
   "outputs": [
    {
     "output_type": "display_data",
     "data": {
      "text/plain": [
       "<IPython.core.display.HTML object>"
      ],
      "text/html": [
       "\n",
       "        <div class=\"alert alert-box alert-success\">\n",
       "        <h1> <!--{id:\"CORRECTMARK\", marks:\"0\"}--> \n",
       "         ✓ [0 marks] \n",
       "         </h1> </div>"
      ]
     },
     "metadata": {}
    },
    {
     "output_type": "display_data",
     "data": {
      "text/plain": [
       "<IPython.core.display.HTML object>"
      ],
      "text/html": [
       "\n",
       "        <div class=\"alert alert-box alert-success\">\n",
       "        <h1> <!--{id:\"CORRECTMARK\", marks:\"0\"}--> \n",
       "         ✓ [0 marks] \n",
       "         </h1> </div>"
      ]
     },
     "metadata": {}
    }
   ],
   "metadata": {
    "ExecuteTime": {
     "end_time": "2023-08-22T02:32:17.032927Z",
     "start_time": "2023-08-22T02:32:17.006845Z"
    },
    "deletable": false,
    "editable": false,
    "nbgrader": {
     "cell_type": "code",
     "checksum": "df7bbc8427a7e0d52e6f8568ef1f864c",
     "grade": true,
     "grade_id": "cell-0e2b9b16091f7b69",
     "locked": true,
     "points": 0,
     "schema_version": 3,
     "solution": false,
     "task": false
    }
   }
  },
  {
   "cell_type": "markdown",
   "source": [
    "### Introducción\n",
    "\n",
    "**Créditos:** Esta parte de este laboratorio está tomado y basado en uno de los blogs de Renato Candido, así como las imagenes presentadas en este laboratorio a menos que se indique lo contrario.\n",
    "    \n",
    "Las redes generativas adversarias también pueden generar muestras de alta dimensionalidad, como imágenes. En este ejemplo, se va a utilizar una GAN para generar imágenes de dígitos escritos a mano. Para ello, se entrenarán los modelos utilizando el conjunto de datos MNIST de dígitos escritos a mano, que está incluido en el paquete torchvision.\n",
    "\n",
    "Dado que este ejemplo utiliza imágenes en el conjunto de datos de entrenamiento, los modelos necesitan ser más complejos, con un mayor número de parámetros. Esto hace que el proceso de entrenamiento sea más lento, llevando alrededor de dos minutos por época (aproximadamente) al ejecutarse en la CPU. Se necesitarán alrededor de cincuenta épocas para obtener un resultado relevante, por lo que el tiempo total de entrenamiento al usar una CPU es de alrededor de cien minutos.\n",
    "\n",
    "Para reducir el tiempo de entrenamiento, se puede utilizar una GPU si está disponible. Sin embargo, será necesario mover manualmente tensores y modelos a la GPU para usarlos en el proceso de entrenamiento.\n",
    "\n",
    "Se puede asegurar que el código se ejecutará en cualquier configuración creando un objeto de dispositivo que apunte a la CPU o, si está disponible, a la GPU. Más adelante, se utilizará este dispositivo para definir dónde deben crearse los tensores y los modelos, utilizando la GPU si está disponible."
   ],
   "metadata": {
    "deletable": false,
    "editable": false,
    "nbgrader": {
     "cell_type": "markdown",
     "checksum": "d3a36e67057ec9c60bb19ba1abc28af9",
     "grade": false,
     "grade_id": "cell-07f1f2b670a56f83",
     "locked": true,
     "schema_version": 3,
     "solution": false,
     "task": false
    }
   }
  },
  {
   "cell_type": "code",
   "execution_count": 4,
   "source": [
    "import torch\n",
    "from torch import nn\n",
    "\n",
    "import math\n",
    "import matplotlib.pyplot as plt\n",
    "import torchvision\n",
    "import torchvision.transforms as transforms\n",
    "\n",
    "import random\n",
    "import numpy as np\n"
   ],
   "outputs": [],
   "metadata": {
    "ExecuteTime": {
     "end_time": "2023-08-22T02:32:18.218858Z",
     "start_time": "2023-08-22T02:32:17.036866Z"
    },
    "deletable": false,
    "editable": false,
    "nbgrader": {
     "cell_type": "code",
     "checksum": "a86c4dc01d989b755b457c82ece100f2",
     "grade": false,
     "grade_id": "cell-73c9a970144eb852",
     "locked": true,
     "schema_version": 3,
     "solution": false,
     "task": false
    }
   }
  },
  {
   "cell_type": "code",
   "execution_count": 5,
   "source": [
    "seed_ = 111\n",
    "\n",
    "def seed_all(seed_):\n",
    "    random.seed(seed_)\n",
    "    np.random.seed(seed_)\n",
    "    torch.manual_seed(seed_)\n",
    "    torch.cuda.manual_seed(seed_)\n",
    "    torch.backends.cudnn.deterministic = True\n",
    "\n",
    "seed_all(seed_)"
   ],
   "outputs": [],
   "metadata": {
    "ExecuteTime": {
     "end_time": "2023-08-22T02:32:18.234575Z",
     "start_time": "2023-08-22T02:32:18.222653Z"
    },
    "deletable": false,
    "editable": false,
    "nbgrader": {
     "cell_type": "code",
     "checksum": "d48d1d3f27ec5ce8799df1449eaf915c",
     "grade": false,
     "grade_id": "cell-5ed57a938b409083",
     "locked": true,
     "schema_version": 3,
     "solution": false,
     "task": false
    }
   }
  },
  {
   "cell_type": "code",
   "execution_count": 6,
   "source": [
    "device = \"\"\n",
    "if torch.cuda.is_available():\n",
    "    device = torch.device(\"cuda\")\n",
    "else:\n",
    "    device = torch.device(\"cpu\")\n",
    "print(device)"
   ],
   "outputs": [
    {
     "output_type": "stream",
     "name": "stdout",
     "text": [
      "cpu\n"
     ]
    }
   ],
   "metadata": {
    "ExecuteTime": {
     "end_time": "2023-08-22T02:32:18.265132Z",
     "start_time": "2023-08-22T02:32:18.236524Z"
    },
    "deletable": false,
    "editable": false,
    "nbgrader": {
     "cell_type": "code",
     "checksum": "5e04485824c77936aee4394650adc2c6",
     "grade": false,
     "grade_id": "cell-85103baadb4ba8f6",
     "locked": true,
     "schema_version": 3,
     "solution": false,
     "task": false
    }
   }
  },
  {
   "cell_type": "markdown",
   "source": [
    "### Preparando la Data\n",
    "\n",
    "El conjunto de datos MNIST consta de imágenes en escala de grises de 28 × 28 píxeles de dígitos escritos a mano del 0 al 9. Para usarlos con PyTorch, será necesario realizar algunas conversiones. Para ello, se define transform, una función que se utilizará al cargar los datos:\n",
    "\n",
    "La función tiene dos partes:\n",
    "\n",
    "* transforms.ToTensor() convierte los datos en un tensor de PyTorch.\n",
    "* transforms.Normalize() convierte el rango de los coeficientes del tensor.\n",
    "\n",
    "Los coeficientes originales proporcionados por transforms.ToTensor() varían de 0 a 1, y dado que los fondos de las imágenes son negros, la mayoría de los coeficientes son iguales a 0 cuando se representan utilizando este rango.\n",
    "\n",
    "transforms.Normalize() cambia el rango de los coeficientes a -1 a 1 restando 0.5 de los coeficientes originales y dividiendo el resultado por 0.5. Con esta transformación, el número de elementos iguales a 0 en las muestras de entrada se reduce drásticamente, lo que ayuda en el entrenamiento de los modelos.\n",
    "\n",
    "Los argumentos de transforms.Normalize() son dos tuplas, (M₁, ..., Mₙ) y (S₁, ..., Sₙ), donde n representa el número de canales de las imágenes. Las imágenes en escala de grises como las del conjunto de datos MNIST tienen solo un canal, por lo que las tuplas tienen solo un valor. Luego, para cada canal i de la imagen, transforms.Normalize() resta Mᵢ de los coeficientes y divide el resultado por Sᵢ.\n",
    "\n",
    "Luego se pueden cargar los datos de entrenamiento utilizando torchvision.datasets.MNIST y realizar las conversiones utilizando transform\n",
    "\n",
    "El argumento download=True garantiza que la primera vez que se ejecute el código, el conjunto de datos MNIST se descargará y almacenará en el directorio actual, como se indica en el argumento root.\n",
    "\n",
    "Después que se ha creado train_set, se puede crear el cargador de datos como se hizo antes en la parte 1. \n",
    "\n",
    "Cabe decir que se puede utilizar Matplotlib para trazar algunas muestras de los datos de entrenamiento. Para mejorar la visualización, se puede usar cmap=gray_r para invertir el mapa de colores y representar los dígitos en negro sobre un fondo blanco:\n",
    "\n",
    "Como se puede ver más adelante, hay dígitos con diferentes estilos de escritura. A medida que la GAN aprende la distribución de los datos, también generará dígitos con diferentes estilos de escritura.\n"
   ],
   "metadata": {
    "deletable": false,
    "editable": false,
    "nbgrader": {
     "cell_type": "markdown",
     "checksum": "323ea4f803e0ef6c12c0925545f84ce8",
     "grade": false,
     "grade_id": "cell-f55e9f6ae74f5426",
     "locked": true,
     "schema_version": 3,
     "solution": false,
     "task": false
    }
   }
  },
  {
   "cell_type": "code",
   "execution_count": 7,
   "source": [
    "transform = transforms.Compose(\n",
    "    [transforms.ToTensor(), transforms.Normalize((0.5,), (0.5,))]\n",
    ")"
   ],
   "outputs": [],
   "metadata": {
    "ExecuteTime": {
     "end_time": "2023-08-22T02:32:18.280232Z",
     "start_time": "2023-08-22T02:32:18.267923Z"
    }
   }
  },
  {
   "cell_type": "code",
   "execution_count": 8,
   "source": [
    "train_set = torchvision.datasets.MNIST(\n",
    "    root=\".\", train=True, download=True, transform=transform\n",
    ")"
   ],
   "outputs": [
    {
     "output_type": "stream",
     "name": "stdout",
     "text": [
      "Downloading http://yann.lecun.com/exdb/mnist/train-images-idx3-ubyte.gz\n",
      "Downloading http://yann.lecun.com/exdb/mnist/train-images-idx3-ubyte.gz to ./MNIST/raw/train-images-idx3-ubyte.gz\n"
     ]
    },
    {
     "output_type": "stream",
     "name": "stderr",
     "text": [
      "100%|██████████| 9912422/9912422 [00:00<00:00, 28030181.90it/s]\n"
     ]
    },
    {
     "output_type": "stream",
     "name": "stdout",
     "text": [
      "Extracting ./MNIST/raw/train-images-idx3-ubyte.gz to ./MNIST/raw\n",
      "\n",
      "Downloading http://yann.lecun.com/exdb/mnist/train-labels-idx1-ubyte.gz\n",
      "Downloading http://yann.lecun.com/exdb/mnist/train-labels-idx1-ubyte.gz to ./MNIST/raw/train-labels-idx1-ubyte.gz\n"
     ]
    },
    {
     "output_type": "stream",
     "name": "stderr",
     "text": [
      "100%|██████████| 28881/28881 [00:00<00:00, 30466723.80it/s]"
     ]
    },
    {
     "output_type": "stream",
     "name": "stdout",
     "text": [
      "Extracting ./MNIST/raw/train-labels-idx1-ubyte.gz to ./MNIST/raw\n",
      "\n",
      "Downloading http://yann.lecun.com/exdb/mnist/t10k-images-idx3-ubyte.gz\n"
     ]
    },
    {
     "output_type": "stream",
     "name": "stderr",
     "text": [
      "\n"
     ]
    },
    {
     "output_type": "stream",
     "name": "stdout",
     "text": [
      "Downloading http://yann.lecun.com/exdb/mnist/t10k-images-idx3-ubyte.gz to ./MNIST/raw/t10k-images-idx3-ubyte.gz\n"
     ]
    },
    {
     "output_type": "stream",
     "name": "stderr",
     "text": [
      "100%|██████████| 1648877/1648877 [00:00<00:00, 8420243.72it/s]\n"
     ]
    },
    {
     "output_type": "stream",
     "name": "stdout",
     "text": [
      "Extracting ./MNIST/raw/t10k-images-idx3-ubyte.gz to ./MNIST/raw\n",
      "\n",
      "Downloading http://yann.lecun.com/exdb/mnist/t10k-labels-idx1-ubyte.gz\n",
      "Downloading http://yann.lecun.com/exdb/mnist/t10k-labels-idx1-ubyte.gz to ./MNIST/raw/t10k-labels-idx1-ubyte.gz\n"
     ]
    },
    {
     "output_type": "stream",
     "name": "stderr",
     "text": [
      "100%|██████████| 4542/4542 [00:00<00:00, 18604032.00it/s]"
     ]
    },
    {
     "output_type": "stream",
     "name": "stdout",
     "text": [
      "Extracting ./MNIST/raw/t10k-labels-idx1-ubyte.gz to ./MNIST/raw\n",
      "\n"
     ]
    },
    {
     "output_type": "stream",
     "name": "stderr",
     "text": [
      "\n"
     ]
    }
   ],
   "metadata": {
    "ExecuteTime": {
     "end_time": "2023-08-22T02:32:18.328103Z",
     "start_time": "2023-08-22T02:32:18.283225Z"
    }
   }
  },
  {
   "cell_type": "code",
   "execution_count": 9,
   "source": [
    "batch_size = 32\n",
    "train_loader = torch.utils.data.DataLoader(\n",
    "    train_set, batch_size=batch_size, shuffle=True\n",
    ")"
   ],
   "outputs": [],
   "metadata": {
    "ExecuteTime": {
     "end_time": "2023-08-22T02:32:18.344090Z",
     "start_time": "2023-08-22T02:32:18.330099Z"
    }
   }
  },
  {
   "cell_type": "code",
   "execution_count": 10,
   "source": [
    "real_samples, mnist_labels = next(iter(train_loader))\n",
    "for i in range(16):\n",
    "    ax = plt.subplot(4, 4, i + 1)\n",
    "    plt.imshow(real_samples[i].reshape(28, 28), cmap=\"gray_r\")\n",
    "    plt.xticks([])\n",
    "    plt.yticks([])"
   ],
   "outputs": [
    {
     "output_type": "display_data",
     "data": {
      "text/plain": [
       "<Figure size 640x480 with 16 Axes>"
      ],
      "image/png": "[encoded data removed]"
     },
     "metadata": {}
    }
   ],
   "metadata": {
    "ExecuteTime": {
     "end_time": "2023-08-22T02:32:18.930355Z",
     "start_time": "2023-08-22T02:32:18.346061Z"
    }
   }
  },
  {
   "cell_type": "markdown",
   "source": [
    "### Implementando el Discriminador y el Generador\n",
    "\n",
    "En este caso, el discriminador es una red neuronal MLP (multi-layer perceptron) que recibe una imagen de 28 × 28 píxeles y proporciona la probabilidad de que la imagen pertenezca a los datos reales de entrenamiento.\n",
    "\n",
    "Para introducir los coeficientes de la imagen en la red neuronal MLP, se vectorizan para que la red neuronal reciba vectores con 784 coeficientes.\n",
    "\n",
    "La vectorización ocurre cuando se ejecuta .forward(), ya que la llamada a x.view() convierte la forma del tensor de entrada. En este caso, la forma original de la entrada \"x\" es 32 × 1 × 28 × 28, donde 32 es el tamaño del batch que se ha configurado. Después de la conversión, la forma de \"x\" se convierte en 32 × 784, con cada línea representando los coeficientes de una imagen del conjunto de entrenamiento.\n",
    "\n",
    "Para ejecutar el modelo de discriminador usando la GPU, hay que instanciarlo y enviarlo a la GPU con .to(). Para usar una GPU cuando haya una disponible, se puede enviar el modelo al objeto de dispositivo creado anteriormente.\n",
    "\n",
    "Dado que el generador va a generar datos más complejos, es necesario aumentar las dimensiones de la entrada desde el espacio latente. En este caso, el generador va a recibir una entrada de 100 dimensiones y proporcionará una salida con 784 coeficientes, que se organizarán en un tensor de 28 × 28 que representa una imagen.\n",
    "\n",
    "Luego, se utiliza la función tangente hiperbólica Tanh() como activación de la capa de salida, ya que los coeficientes de salida deben estar en el intervalo de -1 a 1 (por la normalización que se hizo anteriormente). Después, se instancia el generador y se envía a device para usar la GPU si está disponible.\n"
   ],
   "metadata": {
    "deletable": false,
    "editable": false,
    "nbgrader": {
     "cell_type": "markdown",
     "checksum": "38120892049041564fc93fafad39f448",
     "grade": false,
     "grade_id": "cell-e3c5a7ffdadd3780",
     "locked": true,
     "schema_version": 3,
     "solution": false,
     "task": false
    }
   }
  },
  {
   "cell_type": "code",
   "execution_count": 11,
   "source": [
    "import torch.nn as nn\n",
    "\n",
    "class Discriminator(nn.Module):\n",
    "    def __init__(self):\n",
    "        super().__init__()\n",
    "        self.model = nn.Sequential(\n",
    "            nn.Linear(784, 1024),\n",
    "            nn.ReLU(),\n",
    "            nn.Dropout(0.4),\n",
    "            nn.Linear(1024, 512),\n",
    "            nn.ReLU(),\n",
    "            nn.Dropout(0.4),\n",
    "            nn.Linear(512, 256),\n",
    "            nn.ReLU(),\n",
    "            nn.Dropout(0.4),\n",
    "            nn.Linear(256, 1),\n",
    "            nn.Sigmoid()\n",
    "        )\n",
    "\n",
    "    def forward(self, x):\n",
    "        x = x.view(x.size(0), -1)  \n",
    "        output = self.model(x)\n",
    "        return output\n"
   ],
   "outputs": [],
   "metadata": {
    "ExecuteTime": {
     "end_time": "2023-08-22T02:32:18.946524Z",
     "start_time": "2023-08-22T02:32:18.934357Z"
    },
    "deletable": false,
    "nbgrader": {
     "cell_type": "code",
     "checksum": "8cc3ef45cd94833b3fd76352e2925191",
     "grade": false,
     "grade_id": "cell-357a9d8872fc2dee",
     "locked": false,
     "schema_version": 3,
     "solution": true,
     "task": false
    }
   }
  },
  {
   "cell_type": "code",
   "execution_count": 12,
   "source": [
    "import torch.nn as nn\n",
    "\n",
    "class Generator(nn.Module):\n",
    "    def __init__(self):\n",
    "        super().__init__()\n",
    "        self.model = nn.Sequential(\n",
    "            nn.Linear(100, 256),\n",
    "            nn.ReLU(),\n",
    "            nn.Linear(256, 512),\n",
    "            nn.ReLU(),\n",
    "            nn.Linear(512, 1024),\n",
    "            nn.ReLU(),\n",
    "            nn.Linear(1024, 784),\n",
    "            nn.Tanh()\n",
    "        )\n",
    "\n",
    "    def forward(self, x):\n",
    "        output = self.model(x)\n",
    "        output = output.view(x.size(0), 1, 28, 28)\n",
    "        return output\n"
   ],
   "outputs": [],
   "metadata": {
    "ExecuteTime": {
     "end_time": "2023-08-22T02:32:18.962448Z",
     "start_time": "2023-08-22T02:32:18.948456Z"
    },
    "deletable": false,
    "nbgrader": {
     "cell_type": "code",
     "checksum": "67a3d43e6d9552591af4c5a43198f6a4",
     "grade": false,
     "grade_id": "cell-56373e11c10164af",
     "locked": false,
     "schema_version": 3,
     "solution": true,
     "task": false
    }
   }
  },
  {
   "cell_type": "markdown",
   "source": [
    "### Entrenando los Modelos\n",
    "\n",
    "Para entrenar los modelos, es necesario definir los parámetros de entrenamiento y los optimizadores como se hizo en la parte anterior.\n",
    "\n",
    "Para obtener un mejor resultado, se disminuye la tasa de aprendizaje de la primera parte. También se establece el número de épocas en 10 para reducir el tiempo de entrenamiento.\n",
    "\n",
    "El ciclo de entrenamiento es muy similar al que se usó en la parte previa. Note como se envían los datos de entrenamiento a device para usar la GPU si está disponible\n",
    "\n",
    "Algunos de los tensores no necesitan ser enviados explícitamente a la GPU con device. Este es el caso de generated_samples, que ya se envió a una GPU disponible, ya que latent_space_samples y generator se enviaron a la GPU previamente.\n",
    "\n",
    "Dado que esta parte presenta modelos más complejos, el entrenamiento puede llevar un poco más de tiempo. Después de que termine, se pueden verificar los resultados generando algunas muestras de dígitos escritos a mano."
   ],
   "metadata": {
    "deletable": false,
    "editable": false,
    "nbgrader": {
     "cell_type": "markdown",
     "checksum": "a0019dc58f0c3b34224e4944018344f9",
     "grade": false,
     "grade_id": "cell-c86623f084dad402",
     "locked": true,
     "schema_version": 3,
     "solution": false,
     "task": false
    }
   }
  },
  {
   "cell_type": "code",
   "execution_count": 19,
   "source": [
    "import os\n",
    "\n",
    "list_images = []\n",
    "\n",
    "# Directorio donde se guardarán las imágenes generadas\n",
    "path_imgs = 'generated_images/'\n",
    "\n",
    "if not os.path.exists(path_imgs):\n",
    "    os.makedirs(path_imgs)\n",
    "\n",
    "discriminator = Discriminator().to(device=device)\n",
    "generator = Generator().to(device=device)\n",
    "\n",
    "lr = 0.0001\n",
    "num_epochs = 50\n",
    "loss_function = nn.BCELoss()\n",
    "\n",
    "optimizer_discriminator = torch.optim.Adam(discriminator.parameters(), lr=lr)\n",
    "optimizer_generator = torch.optim.Adam(generator.parameters(), lr=lr)\n",
    "\n",
    "for epoch in range(num_epochs):\n",
    "    for n, (real_samples, mnist_labels) in enumerate(train_loader):\n",
    "        # Data for training the discriminator\n",
    "        real_samples = real_samples.to(device=device)\n",
    "        real_samples_labels = torch.ones((batch_size, 1)).to(\n",
    "            device=device\n",
    "        )\n",
    "        latent_space_samples = torch.randn((batch_size, 100)).to(\n",
    "            device=device\n",
    "        )\n",
    "        generated_samples = generator(latent_space_samples)\n",
    "        generated_samples_labels = torch.zeros((batch_size, 1)).to(\n",
    "            device=device\n",
    "        )\n",
    "        all_samples = torch.cat((real_samples, generated_samples))\n",
    "        all_samples_labels = torch.cat(\n",
    "            (real_samples_labels, generated_samples_labels)\n",
    "        )\n",
    "\n",
    "        # Training the discriminator\n",
    "        discriminator.zero_grad()\n",
    "        output_discriminator = discriminator(all_samples)\n",
    "        loss_discriminator = loss_function(\n",
    "            output_discriminator, all_samples_labels\n",
    "        )\n",
    "        loss_discriminator.backward()\n",
    "        optimizer_discriminator.step()\n",
    "\n",
    "        # Data for training the generator\n",
    "        latent_space_samples = torch.randn((batch_size, 100)).to(\n",
    "            device=device\n",
    "        )\n",
    "\n",
    "        # Training the generator\n",
    "        generator.zero_grad()\n",
    "        generated_samples = generator(latent_space_samples)\n",
    "        output_discriminator_generated = discriminator(generated_samples)\n",
    "        loss_generator = loss_function(\n",
    "            output_discriminator_generated, real_samples_labels\n",
    "        )\n",
    "        \n",
    "        loss_generator.backward()\n",
    "        optimizer_generator.step()\n",
    "\n",
    "        # Guardamos las imágenes\n",
    "        if epoch % 2 == 0 and n ==  batch_size - 1:\n",
    "            generated_samples_detached = generated_samples.cpu().detach()\n",
    "            for i in range(16):\n",
    "                ax = plt.subplot(4, 4, i + 1)\n",
    "                plt.imshow(generated_samples_detached[i].reshape(28, 28), cmap=\"gray_r\")\n",
    "                plt.xticks([])\n",
    "                plt.yticks([])\n",
    "                plt.title(\"Epoch \"+str(epoch))\n",
    "            name = path_imgs + \"epoch_mnist\"+str(epoch)+\".jpg\"\n",
    "            plt.savefig(name, format=\"jpg\")\n",
    "            plt.close()\n",
    "            list_images.append(name)\n",
    "\n",
    "        # Show loss\n",
    "        if n == batch_size - 1:\n",
    "            print(f\"Epoch: {epoch} Loss D.: {loss_discriminator}\")\n",
    "            print(f\"Epoch: {epoch} Loss G.: {loss_generator}\")\n"
   ],
   "outputs": [
    {
     "output_type": "stream",
     "name": "stdout",
     "text": [
      "Epoch: 0 Loss D.: 0.6018939018249512\n",
      "Epoch: 0 Loss G.: 0.41723933815956116\n",
      "Epoch: 1 Loss D.: 0.09307156503200531\n",
      "Epoch: 1 Loss G.: 6.188798427581787\n",
      "Epoch: 2 Loss D.: 0.10932619869709015\n",
      "Epoch: 2 Loss G.: 5.1541337966918945\n",
      "Epoch: 3 Loss D.: 0.05704091116786003\n",
      "Epoch: 3 Loss G.: 5.1883392333984375\n",
      "Epoch: 4 Loss D.: 0.22556592524051666\n",
      "Epoch: 4 Loss G.: 3.8153076171875\n",
      "Epoch: 5 Loss D.: 0.11532564461231232\n",
      "Epoch: 5 Loss G.: 4.056291103363037\n",
      "Epoch: 6 Loss D.: 0.25395312905311584\n",
      "Epoch: 6 Loss G.: 2.5699188709259033\n",
      "Epoch: 7 Loss D.: 0.3223820626735687\n",
      "Epoch: 7 Loss G.: 2.7495899200439453\n",
      "Epoch: 8 Loss D.: 0.21418136358261108\n",
      "Epoch: 8 Loss G.: 2.762181520462036\n",
      "Epoch: 9 Loss D.: 0.36796581745147705\n",
      "Epoch: 9 Loss G.: 1.4140710830688477\n",
      "Epoch: 10 Loss D.: 0.3905206620693207\n",
      "Epoch: 10 Loss G.: 1.7615777254104614\n",
      "Epoch: 11 Loss D.: 0.510434091091156\n",
      "Epoch: 11 Loss G.: 1.5997064113616943\n",
      "Epoch: 12 Loss D.: 0.489119291305542\n",
      "Epoch: 12 Loss G.: 1.5284250974655151\n",
      "Epoch: 13 Loss D.: 0.2772318124771118\n",
      "Epoch: 13 Loss G.: 1.6911265850067139\n",
      "Epoch: 14 Loss D.: 0.3843252956867218\n",
      "Epoch: 14 Loss G.: 1.1549787521362305\n",
      "Epoch: 15 Loss D.: 0.4387287199497223\n",
      "Epoch: 15 Loss G.: 1.2881702184677124\n",
      "Epoch: 16 Loss D.: 0.4993837773799896\n",
      "Epoch: 16 Loss G.: 1.293308138847351\n",
      "Epoch: 17 Loss D.: 0.5667741298675537\n",
      "Epoch: 17 Loss G.: 1.2442429065704346\n",
      "Epoch: 18 Loss D.: 0.514097273349762\n",
      "Epoch: 18 Loss G.: 1.208249568939209\n",
      "Epoch: 19 Loss D.: 0.5383874773979187\n",
      "Epoch: 19 Loss G.: 1.281370759010315\n",
      "Epoch: 20 Loss D.: 0.5915012359619141\n",
      "Epoch: 20 Loss G.: 0.9429638385772705\n",
      "Epoch: 21 Loss D.: 0.6724088788032532\n",
      "Epoch: 21 Loss G.: 1.125020146369934\n",
      "Epoch: 22 Loss D.: 0.5082643628120422\n",
      "Epoch: 22 Loss G.: 1.051515817642212\n",
      "Epoch: 23 Loss D.: 0.5535485148429871\n",
      "Epoch: 23 Loss G.: 1.2780512571334839\n",
      "Epoch: 24 Loss D.: 0.5286291837692261\n",
      "Epoch: 24 Loss G.: 0.9265242218971252\n",
      "Epoch: 25 Loss D.: 0.5359048247337341\n",
      "Epoch: 25 Loss G.: 1.2618166208267212\n",
      "Epoch: 26 Loss D.: 0.5385575294494629\n",
      "Epoch: 26 Loss G.: 1.2400779724121094\n",
      "Epoch: 27 Loss D.: 0.5702499151229858\n",
      "Epoch: 27 Loss G.: 0.9368977546691895\n",
      "Epoch: 28 Loss D.: 0.5742008090019226\n",
      "Epoch: 28 Loss G.: 1.220198154449463\n",
      "Epoch: 29 Loss D.: 0.568840742111206\n",
      "Epoch: 29 Loss G.: 0.9578932523727417\n",
      "Epoch: 30 Loss D.: 0.5663488507270813\n",
      "Epoch: 30 Loss G.: 0.8187006711959839\n",
      "Epoch: 31 Loss D.: 0.7054715156555176\n",
      "Epoch: 31 Loss G.: 0.8499274253845215\n",
      "Epoch: 32 Loss D.: 0.6388115882873535\n",
      "Epoch: 32 Loss G.: 1.060251235961914\n",
      "Epoch: 33 Loss D.: 0.6618168354034424\n",
      "Epoch: 33 Loss G.: 1.0224159955978394\n",
      "Epoch: 34 Loss D.: 0.5894342660903931\n",
      "Epoch: 34 Loss G.: 1.0231651067733765\n",
      "Epoch: 35 Loss D.: 0.6360452175140381\n",
      "Epoch: 35 Loss G.: 1.0648269653320312\n",
      "Epoch: 36 Loss D.: 0.6239414215087891\n",
      "Epoch: 36 Loss G.: 0.8446050882339478\n",
      "Epoch: 37 Loss D.: 0.5665749311447144\n",
      "Epoch: 37 Loss G.: 0.8580578565597534\n",
      "Epoch: 38 Loss D.: 0.5548936724662781\n",
      "Epoch: 38 Loss G.: 0.7437372803688049\n",
      "Epoch: 39 Loss D.: 0.6147865056991577\n",
      "Epoch: 39 Loss G.: 0.7675015330314636\n",
      "Epoch: 40 Loss D.: 0.6427566409111023\n",
      "Epoch: 40 Loss G.: 0.8911498785018921\n",
      "Epoch: 41 Loss D.: 0.6452158689498901\n",
      "Epoch: 41 Loss G.: 0.7302830219268799\n",
      "Epoch: 42 Loss D.: 0.7090854048728943\n",
      "Epoch: 42 Loss G.: 0.8436764478683472\n",
      "Epoch: 43 Loss D.: 0.6384574770927429\n",
      "Epoch: 43 Loss G.: 0.8331651091575623\n",
      "Epoch: 44 Loss D.: 0.7309616804122925\n",
      "Epoch: 44 Loss G.: 0.7723614573478699\n",
      "Epoch: 45 Loss D.: 0.6386353373527527\n",
      "Epoch: 45 Loss G.: 0.8594781756401062\n",
      "Epoch: 46 Loss D.: 0.5956626534461975\n",
      "Epoch: 46 Loss G.: 0.8964163661003113\n",
      "Epoch: 47 Loss D.: 0.6395959854125977\n",
      "Epoch: 47 Loss G.: 0.9810835719108582\n",
      "Epoch: 48 Loss D.: 0.6311392784118652\n",
      "Epoch: 48 Loss G.: 0.8573312759399414\n",
      "Epoch: 49 Loss D.: 0.6110059022903442\n",
      "Epoch: 49 Loss G.: 0.9243584871292114\n"
     ]
    }
   ],
   "metadata": {
    "ExecuteTime": {
     "end_time": "2023-08-22T02:50:48.313937Z",
     "start_time": "2023-08-22T02:32:18.964443Z"
    },
    "deletable": false,
    "nbgrader": {
     "cell_type": "code",
     "checksum": "0a8b50274d5796c306901ddc539a893c",
     "grade": false,
     "grade_id": "cell-edaa87568da78e27",
     "locked": false,
     "schema_version": 3,
     "solution": true,
     "task": false
    }
   }
  },
  {
   "cell_type": "code",
   "execution_count": 16,
   "source": [
    "with tick.marks(35):        \n",
    "    assert compare_numbers(new_representation(loss_discriminator), \"3c3d\", '0x1.3333333333333p-1')\n",
    "    \n",
    "with tick.marks(35):        \n",
    "    assert compare_numbers(new_representation(loss_generator), \"3c3d\", '0x1.8000000000000p+0')"
   ],
   "outputs": [
    {
     "output_type": "display_data",
     "data": {
      "text/plain": [
       "<IPython.core.display.HTML object>"
      ],
      "text/html": [
       "\n",
       "        <div class=\"alert alert-box alert-success\">\n",
       "        <h1> <!--{id:\"CORRECTMARK\", marks:\"35\"}--> \n",
       "         ✓ [35 marks] \n",
       "         </h1> </div>"
      ]
     },
     "metadata": {}
    },
    {
     "output_type": "display_data",
     "data": {
      "text/plain": [
       "<IPython.core.display.HTML object>"
      ],
      "text/html": [
       "\n",
       "        <div class=\"alert alert-box alert-success\">\n",
       "        <h1> <!--{id:\"CORRECTMARK\", marks:\"35\"}--> \n",
       "         ✓ [35 marks] \n",
       "         </h1> </div>"
      ]
     },
     "metadata": {}
    }
   ],
   "metadata": {
    "ExecuteTime": {
     "end_time": "2023-08-22T03:57:03.229901Z",
     "start_time": "2023-08-22T03:57:03.197988Z"
    },
    "deletable": false,
    "editable": false,
    "nbgrader": {
     "cell_type": "code",
     "checksum": "2e2079693599da7942f900dbe88770b7",
     "grade": true,
     "grade_id": "cell-a58098ba2caa0b26",
     "locked": true,
     "points": 70,
     "schema_version": 3,
     "solution": false,
     "task": false
    }
   }
  },
  {
   "cell_type": "markdown",
   "source": [
    "### Validación del Resultado\n",
    "\n",
    "Para generar dígitos escritos a mano, es necesario tomar algunas muestras aleatorias del espacio latente y alimentarlas al generador.\n",
    "\n",
    "Para trazar generated_samples, es necesario mover los datos de vuelta a la CPU en caso de que estén en la GPU. Para ello, simplemente se puede llamar a .cpu(). Como se hizo anteriormente, también es necesario llamar a .detach() antes de usar Matplotlib para trazar los datos.\n",
    "\n",
    "La salida debería ser dígitos que se asemejen a los datos de entrenamiento. Después de cincuenta épocas de entrenamiento, hay varios dígitos generados que se asemejan a los reales. Se pueden mejorar los resultados considerando más épocas de entrenamiento. Al igual que en la parte anterior, al utilizar un tensor de muestras de espacio latente fijo y alimentarlo al generador al final de cada época durante el proceso de entrenamiento, se puede visualizar la evolución del entrenamiento.\n",
    "\n",
    "Se puede observar que al comienzo del proceso de entrenamiento, las imágenes generadas son completamente aleatorias. A medida que avanza el entrenamiento, el generador aprende la distribución de los datos reales y, a algunas épocas, algunos dígitos generados ya se asemejan a los datos reales."
   ],
   "metadata": {
    "deletable": false,
    "editable": false,
    "nbgrader": {
     "cell_type": "markdown",
     "checksum": "1835c8f0424587ed5733d3f5bf2010fd",
     "grade": false,
     "grade_id": "cell-b032c7ab009e6583",
     "locked": true,
     "schema_version": 3,
     "solution": false,
     "task": false
    }
   }
  },
  {
   "cell_type": "code",
   "execution_count": 14,
   "source": [
    "latent_space_samples = torch.randn(batch_size, 100).to(device=device)\n",
    "generated_samples = generator(latent_space_samples)"
   ],
   "outputs": [],
   "metadata": {
    "ExecuteTime": {
     "end_time": "2023-08-22T02:50:48.329896Z",
     "start_time": "2023-08-22T02:50:48.316932Z"
    },
    "deletable": false,
    "editable": false,
    "nbgrader": {
     "cell_type": "code",
     "checksum": "4ed040a37736c07df2885d4fab86402a",
     "grade": false,
     "grade_id": "cell-16bce6a15761ba73",
     "locked": true,
     "schema_version": 3,
     "solution": false,
     "task": false
    }
   }
  },
  {
   "cell_type": "code",
   "execution_count": 17,
   "source": [
    "generated_samples = generated_samples.cpu().detach()\n",
    "for i in range(16):\n",
    "    ax = plt.subplot(4, 4, i + 1)\n",
    "    plt.imshow(generated_samples[i].reshape(28, 28), cmap=\"gray_r\")\n",
    "    plt.xticks([])\n",
    "    plt.yticks([])"
   ],
   "outputs": [
    {
     "output_type": "display_data",
     "data": {
      "text/plain": [
       "<Figure size 640x480 with 16 Axes>"
      ],
      "image/png": "[encoded data removed]"
     },
     "metadata": {}
    }
   ],
   "metadata": {
    "ExecuteTime": {
     "end_time": "2023-08-22T02:50:48.818303Z",
     "start_time": "2023-08-22T02:50:48.330894Z"
    },
    "deletable": false,
    "editable": false,
    "nbgrader": {
     "cell_type": "code",
     "checksum": "8875dff0174dc3e534e435a23a1d063e",
     "grade": false,
     "grade_id": "cell-68da1116c572c3e1",
     "locked": true,
     "schema_version": 3,
     "solution": false,
     "task": false
    }
   }
  },
  {
   "cell_type": "markdown",
   "source": [
    "**RESPUESTAS:**\n",
    "\n",
    "* Las características que distinguen los modelos empleados en la primera parte de los utilizados en esta sección son notables. En la primera parte, los modelos se orientaban hacia la generación a través de patrones, en contraste con la segunda parte que involucra un análisis exhaustivo de los datos completos sin ningún muestreo. El generador en la primera parte presentaba una estructura con capas más abundantes y diferentes límites, mientras que en la segunda parte se ajusta de forma visual en un scatter plot para representar su capacidad de clasificación.\n",
    "\n",
    "* La calidad de las imágenes generadas es razonablemente buena. Los trazos bosquejados permiten identificar de manera adecuada los dígitos numéricos, y su duración en la persistencia contribuye significativamente a su reconocibilidad.\n",
    "\n",
    "* Para optimizar los modelos, se podrían considerar diversas estrategias. Aumentar la cantidad de épocas podría influir positivamente en la convergencia hacia soluciones más precisas. También sería útil experimentar con variaciones en las funciones de activación, junto con la adaptación de parámetros para alcanzar un equilibrio óptimo en la generación de imágenes.\n",
    "\n",
    "* Al examinar el GIF generado, se puede notar una evolución gradual al avanzar las épocas. En las etapas iniciales (primeras 10 eps), las imágenes resultantes carecen de nitidez y distintividad, con una presencia considerable de tonos grises. A medida que transcurren las épocas, las imágenes muestran una clasificación más nítida en términos de colores, evidenciando un marcado contraste entre tonos oscuros y claros. En particular, el uso de tonos grises disminuye significativamente. Hacia las últimas 5 eps, los trazos generados adquieren mayor definición, y la utilización de espacios en blanco se vuelve más selectiva, resultando en trazos más delicados y precisos."
   ],
   "metadata": {
    "deletable": false,
    "editable": false,
    "nbgrader": {
     "cell_type": "markdown",
     "checksum": "15eba323649e31de1f199f7c11ea86ac",
     "grade": false,
     "grade_id": "cell-f01a78f6bc7a73d7",
     "locked": true,
     "schema_version": 3,
     "solution": false,
     "task": false
    }
   }
  },
  {
   "cell_type": "code",
   "execution_count": 20,
   "source": [
    "\n",
    "print()\n",
    "print(\"La fraccion de abajo muestra su rendimiento basado en las partes visibles de este laboratorio\")\n",
    "tick.summarise_marks() # "
   ],
   "outputs": [
    {
     "output_type": "stream",
     "name": "stdout",
     "text": [
      "\n",
      "La fraccion de abajo muestra su rendimiento basado en las partes visibles de este laboratorio\n"
     ]
    },
    {
     "output_type": "display_data",
     "data": {
      "text/plain": [
       "<IPython.core.display.HTML object>"
      ],
      "text/html": [
       "<!--{id:\"TOTALMARK\",marks:\"70\", available:\"70\"}  -->\n",
       "        \n",
       "        <h1> 70 / 70 marks (100.0%) </h1>\n",
       "        "
      ]
     },
     "metadata": {}
    }
   ],
   "metadata": {
    "ExecuteTime": {
     "end_time": "2023-08-22T02:50:49.447394Z",
     "start_time": "2023-08-22T02:50:49.434364Z"
    },
    "deletable": false,
    "editable": false,
    "nbgrader": {
     "cell_type": "code",
     "checksum": "a23020e936db417d66b9a063e98ddf5c",
     "grade": true,
     "grade_id": "cell-59b73392f4da914f",
     "locked": true,
     "points": 0,
     "schema_version": 3,
     "solution": false,
     "task": false
    }
   }
  },
  {
   "cell_type": "code",
   "execution_count": null,
   "source": [],
   "outputs": [],
   "metadata": {}
  }
 ],
 "metadata": {
  "hide_input": false,
  "kernelspec": {
   "name": "python3",
   "display_name": "Python 3.10.9 64-bit ('base': conda)"
  },
  "language_info": {
   "codemirror_mode": {
    "name": "ipython",
    "version": 3
   },
   "file_extension": ".py",
   "mimetype": "text/x-python",
   "name": "python",
   "nbconvert_exporter": "python",
   "pygments_lexer": "ipython3",
   "version": "3.10.9"
  },
  "toc": {
   "base_numbering": 1,
   "nav_menu": {},
   "number_sections": true,
   "sideBar": true,
   "skip_h1_title": false,
   "title_cell": "Table of Contents",
   "title_sidebar": "Contents",
   "toc_cell": false,
   "toc_position": {},
   "toc_section_display": true,
   "toc_window_display": false
  },
  "varInspector": {
   "cols": {
    "lenName": 16,
    "lenType": 16,
    "lenVar": 40
   },
   "kernels_config": {
    "python": {
     "delete_cmd_postfix": "",
     "delete_cmd_prefix": "del ",
     "library": "var_list.py",
     "varRefreshCmd": "print(var_dic_list())"
    },
    "r": {
     "delete_cmd_postfix": ") ",
     "delete_cmd_prefix": "rm(",
     "library": "var_list.r",
     "varRefreshCmd": "cat(var_dic_list()) "
    }
   },
   "types_to_exclude": [
    "module",
    "function",
    "builtin_function_or_method",
    "instance",
    "_Feature"
   ],
   "window_display": false
  },
  "interpreter": {
   "hash": "d25cdb5aa61f08ef17d60ae5a05baad298235cb381824c57cbe25a28ddd03979"
  }
 },
 "nbformat": 4,
 "nbformat_minor": 5
}