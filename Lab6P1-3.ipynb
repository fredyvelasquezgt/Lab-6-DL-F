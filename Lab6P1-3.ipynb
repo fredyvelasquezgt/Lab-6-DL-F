{
 "cells": [
  {
   "cell_type": "markdown",
   "source": [
    "# Laboratorio 6 Parte 1\n",
    "\n",
    "En este laboratorio, estaremos repasando los conceptos de Generative Adversarial Networks En la primera parte nos acercaremos a esta arquitectura a través de buscar aproximar una función. Esta vez ya no usaremos versiones deprecadas de la librería de PyTorch, por ende, creen un nuevo virtual env con las librerías más recientes que puedan por favor.\n",
    "\n",
    "Al igual que en laboratorios anteriores, para este laboratorio estaremos usando una herramienta para Jupyter Notebooks que facilitará la calificación, no solo asegurándo que ustedes tengan una nota pronto sino también mostrandoles su nota final al terminar el laboratorio.\n",
    "\n",
    "De nuevo me discupo si algo no sale bien, seguiremos mejorando conforme vayamos iterando. Siempre pido su comprensión y colaboración si algo no funciona como debería. \n",
    "\n",
    "Al igual que en el laboratorio pasado, estaremos usando la librería de Dr John Williamson et al de la University of Glasgow, además de ciertas piezas de código de Dr Bjorn Jensen de su curso de Introduction to Data Science and System de la University of Glasgow para la visualización de sus calificaciones. \n",
    "\n",
    "**NOTA:** Ahora tambien hay una tercera dependecia que se necesita instalar. Ver la celda de abajo por favor\n",
    "\n",
    "<script type=\"text/javascript\" src=\"https://cdn.mathjax.org/mathjax/latest/MathJax.js?config=TeX-AMS-MML_HTMLorMML\">\n",
    "</script>"
   ],
   "metadata": {
    "deletable": false,
    "editable": false,
    "nbgrader": {
     "cell_type": "markdown",
     "checksum": "ef3befadb7778a3e2158a5215f5bde45",
     "grade": false,
     "grade_id": "cell-d22b0a1a95048dd7",
     "locked": true,
     "schema_version": 3,
     "solution": false,
     "task": false
    }
   }
  },
  {
   "cell_type": "code",
   "execution_count": 3,
   "source": [
    "# Una vez instalada la librería por favor, recuerden volverla a comentar.\n"
   ],
   "outputs": [
    {
     "output_type": "error",
     "ename": "SyntaxError",
     "evalue": "invalid syntax (2771731004.py, line 2)",
     "traceback": [
      "\u001b[0;36m  Cell \u001b[0;32mIn[3], line 2\u001b[0;36m\u001b[0m\n\u001b[0;31m    pip install -U --force-reinstall --no-cache https://github.com/johnhw/jhwutils/zipball/master\u001b[0m\n\u001b[0m        ^\u001b[0m\n\u001b[0;31mSyntaxError\u001b[0m\u001b[0;31m:\u001b[0m invalid syntax\n"
     ]
    }
   ],
   "metadata": {
    "ExecuteTime": {
     "end_time": "2023-08-22T01:05:21.225179Z",
     "start_time": "2023-08-22T01:05:21.206664Z"
    },
    "deletable": false,
    "editable": false,
    "nbgrader": {
     "cell_type": "code",
     "checksum": "15d9e36eb3d6eda1ea8b6ad946164088",
     "grade": false,
     "grade_id": "cell-e74d9bdf886d7f55",
     "locked": true,
     "schema_version": 3,
     "solution": false,
     "task": false
    }
   }
  },
  {
   "cell_type": "code",
   "execution_count": 4,
   "source": [
    "pip install -U --force-reinstall --no-cache https://github.com/johnhw/jhwutils/zipball/master\n"
   ],
   "outputs": [
    {
     "output_type": "stream",
     "name": "stdout",
     "text": [
      "Collecting https://github.com/johnhw/jhwutils/zipball/master\n",
      "  Downloading https://github.com/johnhw/jhwutils/zipball/master\n",
      "\u001b[2K     \u001b[32m-\u001b[0m \u001b[32m38.1 kB\u001b[0m \u001b[31m500.5 kB/s\u001b[0m \u001b[33m0:00:00\u001b[0m\n",
      "\u001b[?25h  Preparing metadata (setup.py) ... \u001b[?25ldone\n",
      "\u001b[?25hBuilding wheels for collected packages: jhwutils\n",
      "  Building wheel for jhwutils (setup.py) ... \u001b[?25ldone\n",
      "\u001b[?25h  Created wheel for jhwutils: filename=jhwutils-1.0-py3-none-any.whl size=33801 sha256=3b915be87249bba1a8e52cd3dff587ed6a159b2e32240ffe30abf737280e0f87\n",
      "  Stored in directory: /private/var/folders/h4/rlgjjv6s50z2sflx2_9bt49h0000gn/T/pip-ephem-wheel-cache-v1oa8sz5/wheels/27/3c/cb/eb7b3c6ea36b5b54e5746751443be9bb0d73352919033558a2\n",
      "Successfully built jhwutils\n",
      "Installing collected packages: jhwutils\n",
      "  Attempting uninstall: jhwutils\n",
      "    Found existing installation: jhwutils 1.0\n",
      "    Uninstalling jhwutils-1.0:\n",
      "      Successfully uninstalled jhwutils-1.0\n",
      "Successfully installed jhwutils-1.0\n",
      "Note: you may need to restart the kernel to use updated packages.\n"
     ]
    }
   ],
   "metadata": {}
  },
  {
   "cell_type": "code",
   "execution_count": 5,
   "source": [
    "pip install scikit-image\n"
   ],
   "outputs": [
    {
     "output_type": "stream",
     "name": "stdout",
     "text": [
      "Requirement already satisfied: scikit-image in /Users/fredyvelasquez/anaconda3/lib/python3.10/site-packages (0.19.3)\n",
      "Requirement already satisfied: PyWavelets>=1.1.1 in /Users/fredyvelasquez/anaconda3/lib/python3.10/site-packages (from scikit-image) (1.4.1)\n",
      "Requirement already satisfied: numpy>=1.17.0 in /Users/fredyvelasquez/anaconda3/lib/python3.10/site-packages (from scikit-image) (1.23.5)\n",
      "Requirement already satisfied: pillow!=7.1.0,!=7.1.1,!=8.3.0,>=6.1.0 in /Users/fredyvelasquez/anaconda3/lib/python3.10/site-packages (from scikit-image) (9.4.0)\n",
      "Requirement already satisfied: packaging>=20.0 in /Users/fredyvelasquez/anaconda3/lib/python3.10/site-packages (from scikit-image) (22.0)\n",
      "Requirement already satisfied: scipy>=1.4.1 in /Users/fredyvelasquez/anaconda3/lib/python3.10/site-packages (from scikit-image) (1.10.0)\n",
      "Requirement already satisfied: tifffile>=2019.7.26 in /Users/fredyvelasquez/anaconda3/lib/python3.10/site-packages (from scikit-image) (2021.7.2)\n",
      "Requirement already satisfied: imageio>=2.4.1 in /Users/fredyvelasquez/anaconda3/lib/python3.10/site-packages (from scikit-image) (2.26.0)\n",
      "Requirement already satisfied: networkx>=2.2 in /Users/fredyvelasquez/anaconda3/lib/python3.10/site-packages (from scikit-image) (2.8.4)\n",
      "Note: you may need to restart the kernel to use updated packages.\n"
     ]
    }
   ],
   "metadata": {}
  },
  {
   "cell_type": "code",
   "execution_count": 6,
   "source": [
    "pip install -U --force-reinstall --no-cache https://github.com/AlbertS789/lautils/zipball/master"
   ],
   "outputs": [
    {
     "output_type": "stream",
     "name": "stdout",
     "text": [
      "Collecting https://github.com/AlbertS789/lautils/zipball/master\n",
      "  Downloading https://github.com/AlbertS789/lautils/zipball/master\n",
      "\u001b[2K     \u001b[32m-\u001b[0m \u001b[32m4.2 kB\u001b[0m \u001b[31m6.8 MB/s\u001b[0m \u001b[33m0:00:00\u001b[0m\n",
      "\u001b[?25h  Preparing metadata (setup.py) ... \u001b[?25ldone\n",
      "\u001b[?25hBuilding wheels for collected packages: lautils\n",
      "  Building wheel for lautils (setup.py) ... \u001b[?25ldone\n",
      "\u001b[?25h  Created wheel for lautils: filename=lautils-1.0-py3-none-any.whl size=2825 sha256=38204aafad770ea25e1eca4bbccd372602606faae8aa926bd204fbb90fcee88b\n",
      "  Stored in directory: /private/var/folders/h4/rlgjjv6s50z2sflx2_9bt49h0000gn/T/pip-ephem-wheel-cache-d5j1o6qo/wheels/16/3a/a0/5fbae86e17ef6bb8ed057aa04b591584005d1212c72d69fc70\n",
      "Successfully built lautils\n",
      "Installing collected packages: lautils\n",
      "  Attempting uninstall: lautils\n",
      "    Found existing installation: lautils 1.0\n",
      "    Uninstalling lautils-1.0:\n",
      "      Successfully uninstalled lautils-1.0\n",
      "Successfully installed lautils-1.0\n",
      "Note: you may need to restart the kernel to use updated packages.\n"
     ]
    }
   ],
   "metadata": {}
  },
  {
   "cell_type": "code",
   "execution_count": 7,
   "source": [
    "import numpy as np\n",
    "import copy\n",
    "import matplotlib.pyplot as plt\n",
    "import scipy\n",
    "from PIL import Image\n",
    "import os\n",
    "from collections import defaultdict\n",
    "\n",
    "#from IPython import display\n",
    "#from base64 import b64decode\n",
    "\n",
    "\n",
    "# Other imports\n",
    "from unittest.mock import patch\n",
    "from uuid import getnode as get_mac\n",
    "\n",
    "from jhwutils.checkarr import array_hash, check_hash, check_scalar, check_string, array_hash, _check_scalar\n",
    "import jhwutils.image_audio as ia\n",
    "import jhwutils.tick as tick\n",
    "from lautils.gradeutils import new_representation, hex_to_float, compare_numbers, compare_lists_by_percentage, calculate_coincidences_percentage\n",
    "\n",
    "###\n",
    "tick.reset_marks()\n",
    "\n",
    "%matplotlib inline"
   ],
   "outputs": [],
   "metadata": {
    "ExecuteTime": {
     "end_time": "2023-08-22T01:05:22.570235Z",
     "start_time": "2023-08-22T01:05:21.228169Z"
    },
    "deletable": false,
    "editable": false,
    "nbgrader": {
     "cell_type": "code",
     "checksum": "fe2113ec92b93ee2a5cf1a59377a957f",
     "grade": false,
     "grade_id": "cell-6ac4f1ed77427074",
     "locked": true,
     "schema_version": 3,
     "solution": false,
     "task": false
    }
   }
  },
  {
   "cell_type": "code",
   "execution_count": 6,
   "source": [
    "# Celda escondida para utlidades necesarias, por favor NO edite esta celda\n"
   ],
   "outputs": [],
   "metadata": {
    "ExecuteTime": {
     "end_time": "2023-08-22T01:05:22.585673Z",
     "start_time": "2023-08-22T01:05:22.571202Z"
    },
    "deletable": false,
    "editable": false,
    "nbgrader": {
     "cell_type": "code",
     "checksum": "89fd2e761a928fe72d6940424922ea1b",
     "grade": true,
     "grade_id": "cell-390a3083c0cdea85",
     "locked": true,
     "points": 0,
     "schema_version": 3,
     "solution": false,
     "task": false
    }
   }
  },
  {
   "cell_type": "markdown",
   "source": [
    "###### Información del estudiante en dos variables\n",
    "\n",
    "* carne_1 : un string con su carne (e.g. \"12281\"), debe ser de al menos 5 caracteres.\n",
    "* firma_mecanografiada_1: un string con su nombre (e.g. \"Albero Suriano\") que se usará para la declaracion que este trabajo es propio (es decir, no hay plagio)\n",
    "* carne_2 : un string con su carne (e.g. \"12281\"), debe ser de al menos 5 caracteres.\n",
    "* firma_mecanografiada_2: un string con su nombre (e.g. \"Albero Suriano\") que se usará para la declaracion que este trabajo es propio (es decir, no hay plagio)"
   ],
   "metadata": {
    "deletable": false,
    "editable": false,
    "nbgrader": {
     "cell_type": "markdown",
     "checksum": "2da785101e1cc39a12741a7eb0f90df7",
     "grade": false,
     "grade_id": "cell-ce2f24821ed0978f",
     "locked": true,
     "schema_version": 3,
     "solution": false,
     "task": false
    }
   }
  },
  {
   "cell_type": "code",
   "execution_count": 8,
   "source": [
    "# carne_1 = \n",
    "# firma_mecanografiada_1 = \n",
    "# carne_2 = \n",
    "# firma_mecanografiada_2 = \n",
    "# YOUR CODE HERE\n",
    "carne_1 = \"201011\"\n",
    "firma_mecanografiada_1 = 'Fredy Velasquez'\n",
    "carne_2 = \"20460\"\n",
    "firma_mecanografiada_2 ='Angel Higueros'"
   ],
   "outputs": [],
   "metadata": {
    "ExecuteTime": {
     "end_time": "2023-08-22T01:05:22.601669Z",
     "start_time": "2023-08-22T01:05:22.588185Z"
    },
    "deletable": false,
    "nbgrader": {
     "cell_type": "code",
     "checksum": "e1ce0139d077928e2dc046ab0e340177",
     "grade": false,
     "grade_id": "cell-359a6f8b5bf8c2b3",
     "locked": false,
     "schema_version": 3,
     "solution": true,
     "task": false
    }
   }
  },
  {
   "cell_type": "code",
   "execution_count": 9,
   "source": [
    "# Deberia poder ver dos checkmarks verdes [0 marks], que indican que su información básica está OK \n",
    "\n",
    "with tick.marks(0): \n",
    "    assert(len(carne_1)>=5 and len(carne_2)>=5)\n",
    "\n",
    "with tick.marks(0):  \n",
    "    assert(len(firma_mecanografiada_1)>0 and len(firma_mecanografiada_2)>0)"
   ],
   "outputs": [
    {
     "output_type": "display_data",
     "data": {
      "text/plain": [
       "<IPython.core.display.HTML object>"
      ],
      "text/html": [
       "\n",
       "        <div class=\"alert alert-box alert-success\">\n",
       "        <h1> <!--{id:\"CORRECTMARK\", marks:\"0\"}--> \n",
       "         ✓ [0 marks] \n",
       "         </h1> </div>"
      ]
     },
     "metadata": {}
    },
    {
     "output_type": "display_data",
     "data": {
      "text/plain": [
       "<IPython.core.display.HTML object>"
      ],
      "text/html": [
       "\n",
       "        <div class=\"alert alert-box alert-success\">\n",
       "        <h1> <!--{id:\"CORRECTMARK\", marks:\"0\"}--> \n",
       "         ✓ [0 marks] \n",
       "         </h1> </div>"
      ]
     },
     "metadata": {}
    }
   ],
   "metadata": {
    "ExecuteTime": {
     "end_time": "2023-08-22T01:05:22.617154Z",
     "start_time": "2023-08-22T01:05:22.604661Z"
    },
    "deletable": false,
    "editable": false,
    "nbgrader": {
     "cell_type": "code",
     "checksum": "02cc459a081d0939998dc1d0de1ff8d1",
     "grade": true,
     "grade_id": "cell-0f320f6e0f897f6c",
     "locked": true,
     "points": 0,
     "schema_version": 3,
     "solution": false,
     "task": false
    }
   }
  },
  {
   "cell_type": "markdown",
   "source": [
    "### Introducción\n",
    "\n",
    "**Créditos:** Esta parte de este laboratorio está tomado y basado en uno de los blogs de Renato Candido, así como las imagenes presentadas en este laboratorio a menos que se indique lo contrario.\n",
    "\n",
    "Los Generative Adversarial Networks representan sistemas de aprendizaje automático capaces de aprender a imitar una distribución específica de datos. Estos fueron propuestos por primera vez en un artículo de NeurIPS en 2014 por Ian Goodfellow, un experto en el campo del aprendizaje profundo, y sus colegas.\n",
    "\n",
    "Las GAN consisten en dos redes neuronales, una de las cuales se entrena para generar datos, mientras que la otra se entrena para discernir entre datos falsos y auténticos (de ahí proviene la naturaleza \"adversarial\" del modelo). Aunque la noción de una estructura destinada a la generación de datos no es novedosa, en lo que respecta a la creación de imágenes y videos, las GAN han arrojado resultados sorprendentes,\n",
    "\n",
    "Architecturas que producen datos, como las GAN, se clasifican como modelos generativos en contraste con los modelos discriminatorios, que son más ampliamente estudiados. Antes de adentrarnos en las GAN, exploraremos las diferencias entre estos dos tipos de modelos.\n",
    "\n",
    "La mayoría de las aplicaciones con las que te hemos trabajado hasta ahora han sido implementaciones usando modelos discriminatorios. Por otro lado, las redes generativas adversarias pertenecen a una categoría diferente de modelos conocidos como modelos generativos.\n",
    "\n",
    "Los modelos discriminatorios son aquellos que se utilizan para la mayoría de los problemas de clasificación o regresión supervisada. Como ejemplo de un problema de clasificación, supongamos que deseamos entrenar un modelo para clasificar imágenes de dígitos escritos a mano del 0 al 9 (un ejemplo bastante común). Para esto, podríamos usar un conjunto de datos etiquetado que contenga imágenes de dígitos escritos a mano y sus etiquetas asociadas que indican qué dígito representa cada imagen.\n",
    "\n",
    "Durante el proceso de entrenamiento, utilizaríamos un algoritmo para ajustar los parámetros del modelo. El objetivo sería minimizar una función de pérdida para que el modelo aprenda la **distribución de probabilidad** de la salida dada la entrada. Después de la fase de entrenamiento, podríamos utilizar el modelo para clasificar una nueva imagen de un dígito escrito a mano estimando el dígito más probable al que corresponde la entrada según lo aprendindo durante la fase de entrenamiento.\n",
    "\n",
    "![](https://files.realpython.com/media/fig_discriminative.9c22a1cd877d.png)\n",
    "\n",
    "Los modelos discriminativos para problemas de clasificación pueden ser visualizados como bloques que utilizan los datos de entrenamiento para aprender los límites entre las clases. Luego, utilizan estos límites para discriminar una entrada y predecir su clase. En términos matemáticos, los modelos discriminativos aprenden la probabilidad condicional P(y|x) de la salida \"y\" dada la entrada \"x\".\n",
    "\n",
    "Además de las redes neuronales, otras estructuras pueden ser utilizadas como modelos discriminativos, como modelos de regresión logística y máquinas de soporte vectorial (SVM).\n",
    "\n",
    "Por otro lado, los modelos generativos como las GANs se entrenan para describir cómo se genera un conjunto de datos en términos de un modelo probabilístico. Al muestrear de un modelo generativo, podemos generar nuevos datos. Mientras que los modelos discriminativos se utilizan para el aprendizaje supervisado, los modelos generativos a menudo se emplean con conjuntos de datos no etiquetados y pueden considerarse como una forma de aprendizaje no supervisado.\n",
    "\n",
    "Utilizando el conjunto de datos de dígitos escritos a mano, podríamos entrenar un modelo generativo para generar nuevos dígitos. Durante la fase de entrenamiento, utilizaríamos algún algoritmo para ajustar los parámetros del modelo y minimizar una función de pérdida para aprender la distribución de probabilidad del conjunto de entrenamiento. Luego, con el modelo entrenado, podríamos generar nuevas muestras.\n",
    "\n",
    "![](https://files.realpython.com/media/fig_generative.5f01c08f5208.png)\n",
    "\n",
    "\n",
    "Para producir nuevas muestras, los modelos generativos suelen incorporar un elemento **estocástico** o aleatorio que influye en las muestras generadas por el modelo. Las muestras aleatorias utilizadas para impulsar el generador se obtienen de un **espacio latente** en el que los vectores representan una especie de forma comprimida de las muestras generadas.\n",
    "\n",
    "A diferencia de los modelos discriminativos, los modelos generativos aprenden la probabilidad P(x) de los datos de entrada \"x\", y al tener la distribución de los datos de entrada, pueden generar nuevas instancias de datos.\n",
    "\n",
    "Vale la pena mencionar que los modelos generativos también pueden ser utilizados con conjuntos de datos etiquetados. Cuando lo son, se entrenan para aprender la probabilidad P(x|y) de la entrada \"x\" dado el resultado \"y\". También pueden ser utilizados para tareas de clasificación, pero en general, los modelos discriminativos tienen un mejor rendimiento en lo que respecta a la clasificación.\n",
    "\n",
    "\n",
    "### Sobre la Arquitectura\n",
    "\n",
    "Las redes Generativas Adversarias están compuestas por una estructura global que consta de dos redes neuronales, una llamada generador y otra llamada discriminador.\n",
    "\n",
    "El papel del generador es estimar la distribución de probabilidad de las muestras reales para proporcionar muestras generadas que se asemejen a datos reales. El discriminador, a su vez, se entrena para estimar la probabilidad de que una muestra dada provenga de los datos reales en lugar de ser proporcionada por el generador.\n",
    "\n",
    "Estas estructuras se llaman redes generativas adversarias porque el generador y el discriminador se entrenan para competir entre sí: el generador intenta mejorar engañando al discriminador, mientras que el discriminador intenta mejorar identificando muestras generadas.\n",
    "\n",
    "Para comprender cómo funciona el entrenamiento de las GAN, vamos a considerar un ejemplo sencillo con un conjunto de datos compuesto por muestras bidimensionales (x₁, x₂), donde x₁ está en el intervalo de 0 a 2π y x₂ = sin(x₁). Una función que se puede visualizar como la siguiente imagen:\n",
    "\n",
    "![](https://files.realpython.com/media/fig_x1x2.f8a39d8ff58a.png)\n",
    "\n",
    "Como se puede ver, este conjunto de datos consiste en puntos (x₁, x₂) ubicados sobre una curva senoidal, que tiene una distribución muy particular. La estructura general de una GAN para generar pares (x̃₁, x̃₂) que se asemejen a las muestras del conjunto de datos se muestra en la siguiente figura:\n",
    "\n",
    "![](https://files.realpython.com/media/fig_gan.4f0f744c7999.png)\n",
    "\n",
    "El generador G recibe datos aleatorios de un espacio latente, y su función es generar datos que se parezcan a las muestras reales. En este ejemplo, se tiene un espacio latente bidimensional, de manera que el generador recibe pares aleatorios (z₁, z₂) y debe transformarlos de manera que se asemejen a las muestras reales.\n",
    "\n",
    "La estructura de la red neuronal G puede ser arbitraria, lo que te permite utilizar redes neuronales como multi-layer perceptron (MLP), redes neuronales convolucionales (CNN) o cualquier otra estructura, **siempre que las dimensiones de la entrada y la salida coincidan con las dimensiones del espacio latente y los datos reales.**\n",
    "\n",
    "El discriminador D recibe muestras reales del conjunto de datos de entrenamiento o muestras generadas proporcionadas por G. Su función es estimar la probabilidad de que la entrada pertenezca al conjunto de datos reales. El entrenamiento se realiza de manera que D emita un 1 cuando se le proporciona una muestra real y un 0 cuando se le proporciona una muestra generada.\n",
    "\n",
    "Al igual que con G, se puede elegir una estructura de red neuronal arbitraria para D, siempre que respete las dimensiones necesarias de entrada y salida. En esta primera parte, la entrada es bidimensional. Para un discriminador binario, la salida puede ser un escalar que varía entre 0 y 1.\n",
    "\n",
    "El proceso de entrenamiento de GAN consiste en un juego minimax (¿les suena o recuerdan este concepto?) de dos jugadores en el que D se adapta para minimizar el error de discriminación entre muestras reales y generadas, y G se adapta para maximizar la probabilidad de que D cometa un error.\n",
    "\n",
    "Aunque el conjunto de datos que contiene los datos reales no está etiquetado, los procesos de entrenamiento para D y G se realizan de manera supervisada. En cada paso del entrenamiento, los parámetros de D y G se actualizan. De hecho, en la propuesta original de las GAN, los parámetros de D se actualizan k veces, mientras que los parámetros de G se actualizan solo una vez en cada paso de entrenamiento. Sin embargo, para simplificar el entrenamiento, se puede considerar k igual a 1.\n",
    "\n",
    "Para entrenar a D, en cada iteración se etiquetan algunas muestras reales tomadas de los datos de entrenamiento como 1 y algunas muestras generadas proporcionadas por G como 0. De esta manera, puedes utilizar un marco de entrenamiento supervisado convencional para actualizar los parámetros de D con el fin de minimizar una función de pérdida, como se muestra en el siguiente esquema:\n",
    "\n",
    "![](https://files.realpython.com/media/fig_train_discriminator.cd1a1e32764f.png)\n",
    "\n",
    "Para cada batch de datos de entrenamiento que contiene muestras reales y generadas, se actualizan los parámetros de D para minimizar una función de pérdida. Después de actualizar los parámetros de D, se entrena a G para producir mejores muestras generadas. La salida de G está conectada a D, cuyos parámetros se mantienen congelados, como se muestra aquí:\n",
    "\n",
    "![](https://files.realpython.com/media/fig_train_generator.7196c4f382ba.png)\n",
    "\n",
    "Se puede imaginar el sistema compuesto por G y D como un sistema de clasificación único que recibe muestras aleatorias como entrada y produce la clasificación, que en este caso puede interpretarse como una probabilidad.\n",
    "\n",
    "Cuando G hace un trabajo lo suficientemente bueno como para engañar a D, la probabilidad de salida debería estar cerca de 1. También se podría utilizar un framework de entrenamiento supervisado convencional aquí: el conjunto de datos para entrenar el sistema de clasificación compuesto por G y D sería proporcionado por muestras de entrada aleatorias, y la etiqueta asociada con cada muestra de entrada sería 1.\n",
    "\n",
    "Durante el entrenamiento, a medida que se actualizan los parámetros de D y G, se espera que las muestras generadas proporcionadas por G se parezcan más a los datos reales, y que D tenga más dificultades para distinguir entre datos reales y generados.\n",
    "\n",
    "Ahora sí, después de tan largo preambulo, empecemos a trabajar sobre nuestra primera GAN"
   ],
   "metadata": {
    "deletable": false,
    "editable": false,
    "nbgrader": {
     "cell_type": "markdown",
     "checksum": "a242aacebd30d8687e18c5d525e7a3ee",
     "grade": false,
     "grade_id": "cell-c37faff63689fa77",
     "locked": true,
     "schema_version": 3,
     "solution": false,
     "task": false
    }
   }
  },
  {
   "cell_type": "code",
   "execution_count": 10,
   "source": [
    "import torch\n",
    "from torch import nn\n",
    "import random\n",
    "import numpy as np\n",
    "\n",
    "import math\n",
    "import matplotlib.pyplot as plt"
   ],
   "outputs": [],
   "metadata": {
    "ExecuteTime": {
     "end_time": "2023-08-22T01:05:23.804126Z",
     "start_time": "2023-08-22T01:05:22.618151Z"
    },
    "deletable": false,
    "editable": false,
    "nbgrader": {
     "cell_type": "code",
     "checksum": "55a8192dbeafddfd102461188fc6fc31",
     "grade": false,
     "grade_id": "cell-342bf17cb8fdb5a7",
     "locked": true,
     "schema_version": 3,
     "solution": false,
     "task": false
    }
   }
  },
  {
   "cell_type": "code",
   "execution_count": 11,
   "source": [
    "seed_ = 2023\n",
    "random.seed(seed_)\n",
    "np.random.seed(seed_)\n",
    "torch.manual_seed(seed_)\n",
    "torch.cuda.manual_seed(seed_)\n",
    "#torch.backends.cudnn.deterministic = True"
   ],
   "outputs": [],
   "metadata": {
    "ExecuteTime": {
     "end_time": "2023-08-22T01:05:23.819134Z",
     "start_time": "2023-08-22T01:05:23.805123Z"
    },
    "deletable": false,
    "editable": false,
    "nbgrader": {
     "cell_type": "code",
     "checksum": "c5123929b3ebbd3953cd58f7c91e0c75",
     "grade": false,
     "grade_id": "cell-e4daee81985d03d2",
     "locked": true,
     "schema_version": 3,
     "solution": false,
     "task": false
    }
   }
  },
  {
   "cell_type": "markdown",
   "source": [
    "### Data de Entrenamiento\n",
    "\n",
    "Los datos de entrenamiento están compuestos por pares (x₁, x₂) de manera que x₂ consiste en el valor del seno de x₁, donde x₁ está en el intervalo de 0 a 2π.\n",
    "\n",
    "Aquí, se compone un conjunto de entrenamiento con 1024 pares (x₁, x₂). Luego, se inicializa train_data, un tensor con dimensiones de 1024 filas y 2 columnas, todos conteniendo ceros. Un tensor es un arreglo multidimensional similar a un arreglo NumPy.\n",
    "\n",
    "Después, se utiliza la primera columna de train_data para almacenar valores aleatorios en el intervalo de 0 a 2π. Luego, se calcula la segunda columna del tensor como el seno de la primera columna.\n",
    "\n",
    "Luego, se necesitará un tensor de etiquetas, que son necesarias para el loader de datos de PyTorch. Dado que las GAN hacen uso de técnicas de aprendizaje no supervisado, las etiquetas pueden ser cualquier cosa. Después de todo, no se utilizarán.\n",
    "\n",
    "Luego, se crea train_labels, un tensor lleno de ceros. Finalmente, se crea train_set como una lista de tuplas, donde cada fila de train_data y train_labels está representada en cada tupla como se espera para el cargador de datos de PyTorch.\n",
    "\n",
    "Más adelante, con train_set se crea el data loader.\n",
    "\n",
    "Despues, se crea un data loader llamado train_loader, que mezclará los datos de train_set y devolverá batches de 32 muestras que se utilizarán para entrenar las redes neuronales.\n",
    "\n",
    "Después de configurar los datos de entrenamiento, se necesita crear las redes neuronales para el discriminador y el generador que compondrán la GAN. "
   ],
   "metadata": {
    "deletable": false,
    "editable": false,
    "nbgrader": {
     "cell_type": "markdown",
     "checksum": "786557f62875429b2fb5660b03889a0b",
     "grade": false,
     "grade_id": "cell-1fa8b883664e10ca",
     "locked": true,
     "schema_version": 3,
     "solution": false,
     "task": false
    }
   }
  },
  {
   "cell_type": "code",
   "execution_count": 12,
   "source": [
    "import torch\n",
    "import math\n",
    "\n",
    "train_data_length = 1024\n",
    "\n",
    "train_data = torch.zeros(train_data_length, 2)\n",
    "train_data[:, 0] = 2 * math.pi * torch.rand(train_data_length)\n",
    "train_data[:, 1] = torch.sin(train_data[:, 0])\n",
    "train_labels = torch.zeros(train_data_length)\n",
    "\n",
    "train_set = [(train_data[i], train_labels[i]) for i in range(train_data_length)]\n"
   ],
   "outputs": [],
   "metadata": {
    "ExecuteTime": {
     "end_time": "2023-08-22T01:05:23.834960Z",
     "start_time": "2023-08-22T01:05:23.821470Z"
    },
    "deletable": false,
    "nbgrader": {
     "cell_type": "code",
     "checksum": "a037bc9ddfc4fd9471599a75b5662d34",
     "grade": false,
     "grade_id": "cell-e4b84d4f789184fa",
     "locked": false,
     "schema_version": 3,
     "solution": true,
     "task": false
    }
   }
  },
  {
   "cell_type": "code",
   "execution_count": 13,
   "source": [
    "batch_size = 32\n",
    "train_loader = torch.utils.data.DataLoader(\n",
    "    train_set, batch_size=batch_size, shuffle=True\n",
    ")"
   ],
   "outputs": [],
   "metadata": {
    "ExecuteTime": {
     "end_time": "2023-08-22T01:05:23.850329Z",
     "start_time": "2023-08-22T01:05:23.836955Z"
    },
    "deletable": false,
    "editable": false,
    "nbgrader": {
     "cell_type": "code",
     "checksum": "6ef4c1462ad7a3f86ea1a96203c5e13b",
     "grade": false,
     "grade_id": "cell-a274f1c593cb647b",
     "locked": true,
     "schema_version": 3,
     "solution": false,
     "task": false
    }
   }
  },
  {
   "cell_type": "markdown",
   "source": [
    "### Implementando el Discriminador\n",
    "\n",
    "En PyTorch, como bien hemos visto hasta ahora, los modelos de redes neuronales se representan mediante clases que heredan de nn.Module, por lo que se deberá definir una clase para crear el discriminador. \n",
    "\n",
    "El discriminador es un modelo con una entrada bidimensional y una salida unidimensional. Se recibirá una muestra de los datos reales o del generador y se proporcionará la probabilidad de que la muestra pertenezca a los datos de entrenamiento reales. \n",
    "\n",
    "Se utiliza .init() para construir el modelo. En primer lugar, es necesario llamar a super().init() para ejecutar .init() de nn.Module. El discriminador que se está utilizando es una red neuronal MLP definida de manera secuencial utilizando nn.Sequential(). Tiene las siguientes características:\n",
    "\n",
    "* La entrada es bidimensional y la primera capa oculta está compuesta por 256 neuronas con activación ReLU.\n",
    "\n",
    "* La segunda y tercera capas ocultas están compuestas por 128 y 64 neuronas, respectivamente, con activación ReLU.\n",
    "\n",
    "* La salida está compuesta por una única neurona con activación sigmoide para representar una probabilidad.\n",
    "\n",
    "* Después de la primera, segunda y tercera capas ocultas, se utiliza dropout para evitar el sobreajuste.\n",
    "\n",
    "Finalmente, se utiliza .forward() para describir cómo se calcula la salida del modelo. Aquí, \"x\" representa la entrada del modelo, que es un tensor bidimensional. En esta implementación, la salida se obtiene alimentando la entrada x al modelo que se ha definido sin ningún otro procesamiento.\n",
    "\n",
    "El discriminador representa una instancia de la red neuronal que se ha definido y está listo para ser entrenado. Sin embargo, antes de implementar el ciclo de entrenamiento, la GAN también necesita un generador. "
   ],
   "metadata": {
    "deletable": false,
    "editable": false,
    "nbgrader": {
     "cell_type": "markdown",
     "checksum": "614ac65e587345fb17a1f42a6f95919e",
     "grade": false,
     "grade_id": "cell-3baf9107a13f6b23",
     "locked": true,
     "schema_version": 3,
     "solution": false,
     "task": false
    }
   }
  },
  {
   "cell_type": "code",
   "execution_count": 14,
   "source": [
    "import torch.nn as nn\n",
    "\n",
    "class Discriminator(nn.Module):\n",
    "    def __init__(self):\n",
    "        super().__init__()\n",
    "        self.model = nn.Sequential(\n",
    "            nn.Linear(2, 256),  # Capa lineal de entrada 2 y salida 256\n",
    "            nn.ReLU(),          # Activación ReLU\n",
    "            nn.Dropout(0.3),    # Dropout con probabilidad 30%\n",
    "            nn.Linear(256, 128),\n",
    "            nn.ReLU(),\n",
    "            nn.Dropout(0.3),\n",
    "            nn.Linear(128, 64),\n",
    "            nn.ReLU(),\n",
    "            nn.Dropout(0.3),\n",
    "            nn.Linear(64, 1),   # Capa lineal de entrada 64 y salida 1\n",
    "            nn.Sigmoid()        # Activación sigmoide\n",
    "        )\n",
    "\n",
    "    def forward(self, x):\n",
    "        output = self.model(x)\n",
    "        return output\n"
   ],
   "outputs": [],
   "metadata": {
    "ExecuteTime": {
     "end_time": "2023-08-22T01:05:23.865336Z",
     "start_time": "2023-08-22T01:05:23.852325Z"
    },
    "deletable": false,
    "nbgrader": {
     "cell_type": "code",
     "checksum": "d5ba304e71ece7d70910c50c1ccb0c78",
     "grade": false,
     "grade_id": "cell-520ed8d07dcaf1c4",
     "locked": false,
     "schema_version": 3,
     "solution": true,
     "task": false
    }
   }
  },
  {
   "cell_type": "code",
   "execution_count": 15,
   "source": [
    "discriminator = Discriminator()"
   ],
   "outputs": [],
   "metadata": {
    "ExecuteTime": {
     "end_time": "2023-08-22T01:05:23.881338Z",
     "start_time": "2023-08-22T01:05:23.866335Z"
    },
    "deletable": false,
    "editable": false,
    "nbgrader": {
     "cell_type": "code",
     "checksum": "0d54b7237531498b39d119c908b85bf1",
     "grade": false,
     "grade_id": "cell-d231beb0bf3a97c2",
     "locked": true,
     "schema_version": 3,
     "solution": false,
     "task": false
    }
   }
  },
  {
   "cell_type": "markdown",
   "source": [
    "### Implementando el Generador\n",
    "\n",
    "En las GANs, el generador es el modelo que toma muestras de un espacio latente como entrada y genera datos que se asemejan a los datos del conjunto de entrenamiento. En este caso, es un modelo con una entrada bidimensional, que recibirá puntos aleatorios (z₁, z₂), y una salida bidimensional que debe proporcionar puntos (x̃₁, x̃₂) que se parezcan a los del conjunto de datos de entrenamiento.\n",
    "\n",
    "La implementación es similar a lo que se hizo para el discriminador. En primer lugar, se debe crear una clase Generador que herede de nn.Module, definiendo la arquitectura de la red neuronal, y luego se necesita instanciar un objeto Generador:\n",
    "\n",
    "El generador representa la red neuronal generadora. Está compuesto por dos capas ocultas con 16 y 32 neuronas, ambas con activación ReLU, y una capa de activación lineal con 2 neuronas en la salida. De esta manera, la salida consistirá en un vector con dos elementos que pueden ser cualquier valor que varíe desde menos infinito hasta infinito, lo que representará (x̃₁, x̃₂)."
   ],
   "metadata": {
    "deletable": false,
    "editable": false,
    "nbgrader": {
     "cell_type": "markdown",
     "checksum": "56d5850506bd62639c5f3c22a1b95773",
     "grade": false,
     "grade_id": "cell-5a2eb84298c32b21",
     "locked": true,
     "schema_version": 3,
     "solution": false,
     "task": false
    }
   }
  },
  {
   "cell_type": "code",
   "execution_count": 17,
   "source": [
    "import torch.nn as nn\n",
    "\n",
    "class Generator(nn.Module):\n",
    "    def __init__(self):\n",
    "        super().__init__()\n",
    "        self.model = nn.Sequential(\n",
    "            nn.Linear(2, 16),   # Capa lineal de entrada 2 y salida 16\n",
    "            nn.ReLU(),          # Activación ReLU\n",
    "            nn.Linear(16, 32),  # Capa lineal de entrada 16 y salida 32\n",
    "            nn.ReLU(),           # Activación ReLU\n",
    "            nn.Linear(32, 2)    # Capa lineal de entrada 32 y salida 2\n",
    "        )\n",
    "\n",
    "    def forward(self, x):\n",
    "        output = self.model(x)\n",
    "        return output\n",
    "\n",
    "generator = Generator()\n"
   ],
   "outputs": [],
   "metadata": {
    "ExecuteTime": {
     "end_time": "2023-08-22T01:05:23.897912Z",
     "start_time": "2023-08-22T01:05:23.883333Z"
    },
    "deletable": false,
    "nbgrader": {
     "cell_type": "code",
     "checksum": "8a986c3b286afc722eb1496160cf8753",
     "grade": false,
     "grade_id": "cell-fbe58b897da39442",
     "locked": false,
     "schema_version": 3,
     "solution": true,
     "task": false
    }
   }
  },
  {
   "cell_type": "markdown",
   "source": [
    "### Entrenando el Modelo\n",
    "\n",
    "Primero se deben configurar algunos parámetros como siempre lo hemos hecho:\n",
    "\n",
    "* La tasa de aprendizaje (lr): Se utilizará para adaptar los pesos de la red.\n",
    "\n",
    "* Número de épocas (num_epochs): Define cuántas repeticiones de entrenamiento utilizando todo el conjunto de entrenamiento se llevarán a cabo.\n",
    "\n",
    "* loss_function a la función de pérdida de entropía cruzada binaria BCELoss(), que es la función de pérdida que se utilizará para entrenar los modelos.\n",
    "\n",
    "La función de pérdida de entropía cruzada binaria es adecuada para entrenar el discriminador porque considera una tarea de clasificación binaria. También es adecuada para entrenar el generador, ya que alimenta su salida al discriminador, que proporciona una salida binaria observable.\n",
    "\n",
    "PyTorch implementa varias reglas de actualización de pesos para el entrenamiento de modelos en torch.optim. Se utilizará el algoritmo Adam para entrenar los modelos del discriminador y del generador. Para crear los optimizadores utilizando torch.optim.\n",
    "\n",
    "Después, se debe implementar un ciclo de entrenamiento en el que las muestras de entrenamiento se alimenten a los modelos y se actualicen sus pesos para minimizar la función de pérdida:\n",
    "\n",
    "En las GAN, se actualizan los parámetros del discriminador y del generador en cada iteración de entrenamiento. Como generalmente se hace para todas las redes neuronales, el proceso de entrenamiento consiste en dos ciclos, uno para las épocas de entrenamiento y otro para los batch de cada época. Dentro del ciclo interno, se comienza a preparar los datos para entrenar el discriminador. Los pasos a seguir deben ser:\n",
    "\n",
    "* Se obtienen las muestras reales del batch actual del cargador de datos y se asignan a real_samples. Observen que la primera dimensión del tensor tiene el número de elementos igual a batch_size. Esta es la forma estándar de organizar los datos en PyTorch, donde cada línea del tensor representa una muestra del batch.\n",
    "\n",
    "* Se utiliza torch.ones() para crear etiquetas con el valor 1 para las muestras reales, y luego se asignan las etiquetas a real_samples_labels.\n",
    "\n",
    "* Se crean las muestras generadas almacenando datos aleatorios en latent_space_samples, que luego se alimentan al generador para obtener generated_samples.\n",
    "\n",
    "* Se utiliza torch.zeros() para asignar el valor 0 a las etiquetas para las muestras generadas, y luego se almacenan las etiquetas en generated_samples_labels.\n",
    "\n",
    "* Se concatenan las muestras reales y generadas y las etiquetas, y se almacenan en all_samples y all_samples_labels, que se utilizarán para entrenar el discriminador.\n",
    "\n",
    "Después se entrena el discriminador siguiendo estos pasos:\n",
    "\n",
    "* Es necesario borrar los gradientes en cada paso de entrenamiento para evitar acumularlos. Esto se hace utilizando .zero_grad().\n",
    "\n",
    "* Se calcula la salida del discriminador utilizando los datos de entrenamiento en all_samples.\n",
    "\n",
    "* Se calcula la función de pérdida utilizando la salida del modelo en output_discriminator y las etiquetas en all_samples_labels.\n",
    "\n",
    "* Se calculan los gradientes para actualizar los pesos con loss_discriminator.backward().\n",
    "\n",
    "* Se actualizan los pesos del discriminador llamando a optimizer_discriminator.step().\n",
    "\n",
    "A continuación, se preparan los datos para entrenar el generador. Se almacenan datos aleatorios en latent_space_samples, con un número de líneas igual a batch_size. Se utilizan dos columnas ya que se proporcionan datos bidimensionales como entrada al generador.\n",
    "\n",
    "Se entrena el generador de la siguiente manera:\n",
    "\n",
    "* Se borran los gradientes con .zero_grad().\n",
    "\n",
    "* Se alimenta el generador con latent_space_samples y se almacena su salida en generated_samples.\n",
    "\n",
    "* Se alimenta la salida del generador al discriminador y se almacena su salida en output_discriminator_generated, que se utilizará como la salida del modelo completo.\n",
    "\n",
    "* Se calcula la función de pérdida utilizando la salida del sistema de clasificación almacenada en output_discriminator_generated y las etiquetas en real_samples_labels, que son todas iguales a 1.\n",
    "\n",
    "* Se calculan los gradientes y se actualizan los pesos del generador. Recuerda que cuando entrenaste el generador, mantuviste los pesos del discriminador congelados ya que creaste optimizer_generator con su primer argumento igual a generator.parameters().\n",
    "\n",
    "* Se muestran los valores de las funciones de pérdida del discriminador y del generador al final de cada diez épocas.\n",
    "\n",
    "Dado que los modelos utilizados en este ejemplo tienen pocos parámetros, el entrenamiento se completará en pocos minutos. Más adelante, se utilizará la GAN entrenada para generar algunas muestras."
   ],
   "metadata": {
    "deletable": false,
    "editable": false,
    "nbgrader": {
     "cell_type": "markdown",
     "checksum": "4d3fe03132aeefcb81a12da4f5ff8c11",
     "grade": false,
     "grade_id": "cell-8291ccef4c3b322e",
     "locked": true,
     "schema_version": 3,
     "solution": false,
     "task": false
    }
   }
  },
  {
   "cell_type": "code",
   "execution_count": 22,
   "source": [
    "list_images = []\n",
    "\n",
    "path_imgs = \"data/\"\n",
    "\n",
    "random.seed(seed_)\n",
    "np.random.seed(seed_)\n",
    "torch.manual_seed(seed_)\n",
    "torch.cuda.manual_seed(seed_)\n",
    "\n",
    "lr = 0.001\n",
    "num_epochs = 100\n",
    "loss_function = nn.BCELoss()\n",
    "\n",
    "optimizer_discriminator = torch.optim.Adam(discriminator.parameters(), lr=lr)\n",
    "optimizer_generator = torch.optim.Adam(generator.parameters(), lr=lr)\n",
    "\n",
    "for epoch in range(num_epochs):\n",
    "    for n, (real_samples, _) in enumerate(train_loader):\n",
    "        # Data for training the discriminator\n",
    "        real_samples_labels = torch.ones((batch_size, 1))\n",
    "        latent_space_samples = torch.randn((batch_size, 2))\n",
    "        generated_samples = generator(latent_space_samples)\n",
    "        generated_samples_labels = torch.zeros((batch_size, 1))\n",
    "        all_samples = torch.cat((real_samples, generated_samples))\n",
    "        all_samples_labels = torch.cat(\n",
    "            (real_samples_labels, generated_samples_labels)\n",
    "        )\n",
    "\n",
    "        # Training the discriminator\n",
    "        discriminator.zero_grad()\n",
    "        output_discriminator = discriminator(all_samples)\n",
    "        \n",
    "        loss_discriminator = loss_function(output_discriminator, all_samples_labels)\n",
    "        loss_discriminator.backward()\n",
    "        optimizer_discriminator.step()\n",
    "\n",
    "        # Data for training the generator\n",
    "        latent_space_samples = torch.randn((batch_size, 2))\n",
    "\n",
    "        # Training the generator\n",
    "        generator.zero_grad()\n",
    "        generated_samples = generator(latent_space_samples)\n",
    "        \n",
    "        output_discriminator_generated = discriminator(generated_samples)\n",
    "        loss_generator = loss_function(output_discriminator_generated, real_samples_labels)\n",
    "        \n",
    "        loss_generator.backward()\n",
    "        optimizer_generator.step()\n",
    "\n",
    "        # Guardamos las imagenes\n",
    "        if epoch % 2 == 0 and n ==  batch_size - 1:\n",
    "            generated_samples_detached = generated_samples.detach()\n",
    "            plt.plot(generated_samples_detached[:, 0], generated_samples_detached[:, 1], \".\")\n",
    "            plt.xlabel(\"X1\")\n",
    "            plt.ylabel(\"X2\")\n",
    "            plt.title(\"Epoch \"+str(epoch))\n",
    "            name = path_imgs + \"epoch_\"+str(epoch)+\".jpg\"\n",
    "            plt.savefig(name, format=\"jpg\")\n",
    "            plt.close()\n",
    "            list_images.append(name)\n",
    "\n",
    "        # Show loss\n",
    "        if epoch % 10 == 0 and n == batch_size - 1:\n",
    "            print(f\"Epoch: {epoch} Loss D.: {loss_discriminator}\")\n",
    "            print(f\"Epoch: {epoch} Loss G.: {loss_generator}\")\n"
   ],
   "outputs": [
    {
     "output_type": "stream",
     "name": "stdout",
     "text": [
      "Epoch: 0 Loss D.: 0.6564242243766785\n",
      "Epoch: 0 Loss G.: 0.7906530499458313\n",
      "Epoch: 10 Loss D.: 0.6368886232376099\n",
      "Epoch: 10 Loss G.: 0.8695340156555176\n",
      "Epoch: 20 Loss D.: 0.6156637072563171\n",
      "Epoch: 20 Loss G.: 0.978672206401825\n",
      "Epoch: 30 Loss D.: 0.6624659895896912\n",
      "Epoch: 30 Loss G.: 0.790671169757843\n",
      "Epoch: 40 Loss D.: 0.6298583745956421\n",
      "Epoch: 40 Loss G.: 0.7989447116851807\n",
      "Epoch: 50 Loss D.: 0.7099536657333374\n",
      "Epoch: 50 Loss G.: 0.729447066783905\n",
      "Epoch: 60 Loss D.: 0.6497867107391357\n",
      "Epoch: 60 Loss G.: 0.9017159938812256\n",
      "Epoch: 70 Loss D.: 0.639940083026886\n",
      "Epoch: 70 Loss G.: 0.7825865745544434\n",
      "Epoch: 80 Loss D.: 0.7299392819404602\n",
      "Epoch: 80 Loss G.: 0.7012382745742798\n",
      "Epoch: 90 Loss D.: 0.6513949632644653\n",
      "Epoch: 90 Loss G.: 0.7774391174316406\n"
     ]
    }
   ],
   "metadata": {
    "ExecuteTime": {
     "end_time": "2023-08-22T01:05:46.120167Z",
     "start_time": "2023-08-22T01:05:23.899960Z"
    },
    "deletable": false,
    "nbgrader": {
     "cell_type": "code",
     "checksum": "5815eeb4598e64dc1cdd03fe3e99507c",
     "grade": false,
     "grade_id": "cell-5185aa0971c6e2d2",
     "locked": false,
     "schema_version": 3,
     "solution": true,
     "task": false
    }
   }
  },
  {
   "cell_type": "code",
   "execution_count": 17,
   "source": [
    "with tick.marks(35):        \n",
    "    assert compare_numbers(new_representation(loss_generator), \"3c3d\", '0x1.bd70a3d70a3d7p-1')\n",
    "    \n",
    "with tick.marks(35):        \n",
    "    assert compare_numbers(new_representation(loss_discriminator), \"3c3d\", '0x1.6666666666666p-1')"
   ],
   "outputs": [
    {
     "output_type": "display_data",
     "data": {
      "text/plain": [
       "<IPython.core.display.HTML object>"
      ],
      "text/html": [
       "\n",
       "        <div class=\"alert alert-box alert-success\">\n",
       "        <h1> <!--{id:\"CORRECTMARK\", marks:\"35\"}--> \n",
       "         ✓ [35 marks] \n",
       "         </h1> </div>"
      ]
     },
     "metadata": {}
    },
    {
     "output_type": "display_data",
     "data": {
      "text/plain": [
       "<IPython.core.display.HTML object>"
      ],
      "text/html": [
       "\n",
       "        <div class=\"alert alert-box alert-success\">\n",
       "        <h1> <!--{id:\"CORRECTMARK\", marks:\"35\"}--> \n",
       "         ✓ [35 marks] \n",
       "         </h1> </div>"
      ]
     },
     "metadata": {}
    }
   ],
   "metadata": {
    "ExecuteTime": {
     "end_time": "2023-08-22T01:14:15.207336Z",
     "start_time": "2023-08-22T01:14:15.189394Z"
    },
    "deletable": false,
    "editable": false,
    "nbgrader": {
     "cell_type": "code",
     "checksum": "1876d2a5898ac2733d001d55af81c83b",
     "grade": true,
     "grade_id": "cell-43271ed91b07bf15",
     "locked": true,
     "points": 70,
     "schema_version": 3,
     "solution": false,
     "task": false
    }
   }
  },
  {
   "cell_type": "markdown",
   "source": [
    "### Revisión de lo Generado\n",
    "\n",
    "Las GAN están diseñadas para generar datos. Por lo tanto, una vez que se haya completado el proceso de entrenamiento, se pueden obtener algunas muestras aleatorias del espacio latente y alimentarlas al generador para obtener algunas muestras generadas.\n",
    "\n",
    "Luego se pueden trazar las muestras generadas y verificar si se asemejan a los datos de entrenamiento. Antes de trazar los datos de generated_samples, será necesario utilizar .detach() para obtener un tensor fuera del gráfico computacional de PyTorch, que luego se utilizará para calcular los gradientes:\n",
    "\n",
    "Se puede observar que la distribución de los datos generados se asemeja a la de los datos reales. Al utilizar un tensor de muestras de espacio latente fijo y alimentarlo al generador al final de cada época durante el proceso de entrenamiento, se puede visualizar la evolución del entrenamiento:\n",
    "\n",
    "Es importante señalar que al comienzo del proceso de entrenamiento, la distribución de los datos generados es muy diferente de la de los datos reales. Sin embargo, a medida que avanza el entrenamiento, el generador aprende la distribución de los datos reales.\n",
    "\n",
    "Ahora que se ha realizado la primera implementación de una red generativa adversaria, se pasará a una aplicación más práctica utilizando imágenes en la parte 2."
   ],
   "metadata": {
    "deletable": false,
    "editable": false,
    "nbgrader": {
     "cell_type": "markdown",
     "checksum": "87d04696bcc63a71a682bd776f5ed905",
     "grade": false,
     "grade_id": "cell-3a3cdb9d5e36ea4f",
     "locked": true,
     "schema_version": 3,
     "solution": false,
     "task": false
    }
   }
  },
  {
   "cell_type": "code",
   "execution_count": 20,
   "source": [
    "latent_space_samples = torch.randn(100, 2)\n",
    "generated_samples = generator(latent_space_samples)"
   ],
   "outputs": [],
   "metadata": {
    "ExecuteTime": {
     "end_time": "2023-08-22T01:05:46.151620Z",
     "start_time": "2023-08-22T01:05:46.136631Z"
    },
    "deletable": false,
    "editable": false,
    "nbgrader": {
     "cell_type": "code",
     "checksum": "5206dfbaaed23fedda75a98235a5a05a",
     "grade": false,
     "grade_id": "cell-9550386d10b7ff02",
     "locked": true,
     "schema_version": 3,
     "solution": false,
     "task": false
    }
   }
  },
  {
   "cell_type": "code",
   "execution_count": 19,
   "source": [
    "with tick.marks(15):        \n",
    "    assert compare_numbers(new_representation(generated_samples[len(generated_samples)-1][0]), \"3c3d\", '0x1.6000000000000p+2')\n",
    "    \n",
    "with tick.marks(15):        \n",
    "    assert compare_numbers(new_representation(generated_samples[len(generated_samples)-1][1]), \"3c3d\", '0x1.6000000000000p+2')"
   ],
   "outputs": [
    {
     "output_type": "display_data",
     "data": {
      "text/plain": [
       "<IPython.core.display.HTML object>"
      ],
      "text/html": [
       "\n",
       "        <div class=\"alert alert-box alert-success\">\n",
       "        <h1> <!--{id:\"CORRECTMARK\", marks:\"15\"}--> \n",
       "         ✓ [15 marks] \n",
       "         </h1> </div>"
      ]
     },
     "metadata": {}
    },
    {
     "output_type": "display_data",
     "data": {
      "text/plain": [
       "<IPython.core.display.HTML object>"
      ],
      "text/html": [
       "\n",
       "        <div class=\"alert alert-box alert-success\">\n",
       "        <h1> <!--{id:\"CORRECTMARK\", marks:\"15\"}--> \n",
       "         ✓ [15 marks] \n",
       "         </h1> </div>"
      ]
     },
     "metadata": {}
    }
   ],
   "metadata": {
    "ExecuteTime": {
     "end_time": "2023-08-22T01:17:27.195854Z",
     "start_time": "2023-08-22T01:17:27.178827Z"
    },
    "deletable": false,
    "editable": false,
    "nbgrader": {
     "cell_type": "code",
     "checksum": "9c049857dcd843ef11c3fffd112388c5",
     "grade": true,
     "grade_id": "cell-d5c4c4e3c6b03baa",
     "locked": true,
     "points": 30,
     "schema_version": 3,
     "solution": false,
     "task": false
    }
   }
  },
  {
   "cell_type": "code",
   "execution_count": 23,
   "source": [
    "generated_samples = generated_samples.detach()\n",
    "plt.plot(generated_samples[:, 0], generated_samples[:, 1], \".\")\n",
    "plt.xlabel(\"X1\")\n",
    "plt.ylabel(\"X2\")\n",
    "plt.title(\"Final Plot\")"
   ],
   "outputs": [
    {
     "output_type": "execute_result",
     "data": {
      "text/plain": [
       "Text(0.5, 1.0, 'Final Plot')"
      ]
     },
     "metadata": {},
     "execution_count": 23
    },
    {
     "output_type": "display_data",
     "data": {
      "text/plain": [
       "<Figure size 640x480 with 1 Axes>"
      ],
      "image/png": "[encoded data removed]"
     },
     "metadata": {}
    }
   ],
   "metadata": {
    "ExecuteTime": {
     "end_time": "2023-08-22T01:05:46.386400Z",
     "start_time": "2023-08-22T01:05:46.168619Z"
    },
    "deletable": false,
    "editable": false,
    "nbgrader": {
     "cell_type": "code",
     "checksum": "082d622cfd145fa4df612dfb3f435b72",
     "grade": false,
     "grade_id": "cell-6826fa4e5e1b1e94",
     "locked": true,
     "schema_version": 3,
     "solution": false,
     "task": false
    }
   }
  },
  {
   "cell_type": "markdown",
   "source": [
    "*Las respuestas de estas preguntas representan el 10% de este notebook*\n",
    "\n",
    "**PREGUNTAS:**\n",
    "* Describa en una frase la diferencia entre los modelos discriminativos y los generativos\n",
    "\n",
    "Los modelos discriminativos se centran en predecir la probabilidad de que una entrada pertenezca a una clase o categoría específica, mientras que los modelos generativos se esfuerzan por aprender la distribución de los datos y generar nuevas muestras que se asemejen a los datos reales.\n",
    "\n",
    "* Explique como el concepto de MinMax se aplica a los GAN\n",
    "\n",
    "El concepto MinMax se aplica a los GAN (Generative Adversarial Networks) a través de su estructura de dos redes: el generador y el discriminador. El generador busca minimizar la diferencia entre la distribución de los datos generados y la distribución de los datos reales, mientras que el discriminador busca maximizar su capacidad para distinguir entre datos generados y reales. Estas dos redes compiten en un juego de suma cero, donde el objetivo es encontrar un equilibrio entre el generador que trata de engañar al discriminador y el discriminador que trata de no ser engañado. En última instancia, el entrenamiento del GAN se traduce en un proceso de optimización donde el generador y el discriminador intentan minimizar y maximizar respectivamente una función de pérdida.\n",
    "\n",
    "* Describa lo que se está observando en la imagen GIF que se generó\n",
    "\n",
    "A medida que transcurren más iteraciones, se puede notar cómo la curva en forma de campana se vuelve más marcada, pero aún es estable y las variaciones no son tan bruscas. Dicho fenómeno se puede apreciar con más detalle cuando se están realizando las últimas iteraciones, cosa contraria a lo que sucede al inicio, donde la dispersión hace que la forma no sea tan clara y que por lo tanto cueste un poco sacar conclusiones al respecto. La relativa estabilidad presentada en todo el comportamiento es un buen indicio ya que no suceden fenómenos atípicos.\n",
    "\n",
    "* ¿Cree que se ha creado un buen modelo? ¿Por qué?\n",
    "\n",
    "Sí se ha creado un buen modelo dado que el mismo se comporta de forma relativamente parecida durante toda la experimentación. Es posible afirmar dado el comportamiento de la animación que el modelo iba aprendiendo desde las primeras iteraciones hasta las últimas, siendo este proceso bastante exitoso "
   ],
   "metadata": {}
  },
  {
   "cell_type": "code",
   "execution_count": 22,
   "source": [
    "\n",
    "print()\n",
    "print(\"La fraccion de abajo muestra su rendimiento basado en las partes visibles de este laboratorio\")\n",
    "tick.summarise_marks() # "
   ],
   "outputs": [
    {
     "output_type": "stream",
     "name": "stdout",
     "text": [
      "\n",
      "La fraccion de abajo muestra su rendimiento basado en las partes visibles de este laboratorio\n"
     ]
    },
    {
     "output_type": "display_data",
     "data": {
      "text/plain": [
       "<IPython.core.display.HTML object>"
      ],
      "text/html": [
       "<!--{id:\"TOTALMARK\",marks:\"100\", available:\"100\"}  -->\n",
       "        \n",
       "        <h1> 100 / 100 marks (100.0%) </h1>\n",
       "        "
      ]
     },
     "metadata": {}
    }
   ],
   "metadata": {
    "ExecuteTime": {
     "end_time": "2023-08-22T01:05:47.827200Z",
     "start_time": "2023-08-22T01:05:47.813706Z"
    },
    "deletable": false,
    "editable": false,
    "nbgrader": {
     "cell_type": "code",
     "checksum": "3a278e529c2dc267965b339a9df5b702",
     "grade": true,
     "grade_id": "cell-9dc291ab56b45d7a",
     "locked": true,
     "points": 0,
     "schema_version": 3,
     "solution": false,
     "task": false
    }
   }
  }
 ],
 "metadata": {
  "hide_input": false,
  "kernelspec": {
   "name": "python3",
   "display_name": "Python 3.10.9 64-bit ('base': conda)"
  },
  "language_info": {
   "codemirror_mode": {
    "name": "ipython",
    "version": 3
   },
   "file_extension": ".py",
   "mimetype": "text/x-python",
   "name": "python",
   "nbconvert_exporter": "python",
   "pygments_lexer": "ipython3",
   "version": "3.10.9"
  },
  "varInspector": {
   "cols": {
    "lenName": 16,
    "lenType": 16,
    "lenVar": 40
   },
   "kernels_config": {
    "python": {
     "delete_cmd_postfix": "",
     "delete_cmd_prefix": "del ",
     "library": "var_list.py",
     "varRefreshCmd": "print(var_dic_list())"
    },
    "r": {
     "delete_cmd_postfix": ") ",
     "delete_cmd_prefix": "rm(",
     "library": "var_list.r",
     "varRefreshCmd": "cat(var_dic_list()) "
    }
   },
   "types_to_exclude": [
    "module",
    "function",
    "builtin_function_or_method",
    "instance",
    "_Feature"
   ],
   "window_display": false
  },
  "interpreter": {
   "hash": "d25cdb5aa61f08ef17d60ae5a05baad298235cb381824c57cbe25a28ddd03979"
  }
 },
 "nbformat": 4,
 "nbformat_minor": 5
}